{
 "cells": [
  {
   "cell_type": "code",
   "execution_count": 37,
   "metadata": {},
   "outputs": [],
   "source": [
    "from jax import jit, grad\n",
    "from functools import partial\n",
    "import jax.numpy as jnp"
   ]
  },
  {
   "cell_type": "code",
   "execution_count": 27,
   "metadata": {},
   "outputs": [],
   "source": [
    "@partial(jit,static_argnums=(0,1))\n",
    "def foo(i,f):\n",
    "    f = foo3\n",
    "    return f(i)\n",
    "\n",
    "def foo2(i):\n",
    "    return 2*i\n",
    "\n",
    "def foo3(i):\n",
    "    return 3*i"
   ]
  },
  {
   "cell_type": "code",
   "execution_count": 28,
   "metadata": {},
   "outputs": [
    {
     "data": {
      "text/plain": [
       "Array(18, dtype=int32, weak_type=True)"
      ]
     },
     "execution_count": 28,
     "metadata": {},
     "output_type": "execute_result"
    }
   ],
   "source": [
    "foo(6,foo2)"
   ]
  },
  {
   "cell_type": "code",
   "execution_count": 32,
   "metadata": {},
   "outputs": [],
   "source": [
    "def f(x,x_copy,y):\n",
    "  if x_copy < 3:\n",
    "    return 3. * x * y\n",
    "  else:\n",
    "    return -4 * x **2 * y\n",
    "\n",
    "f = grad(jit(f, static_argnums=(1,)),0)"
   ]
  },
  {
   "cell_type": "code",
   "execution_count": 33,
   "metadata": {},
   "outputs": [
    {
     "name": "stdout",
     "output_type": "stream",
     "text": [
      "-32.0\n"
     ]
    }
   ],
   "source": [
    "print(f(4.,4.,1.))"
   ]
  },
  {
   "cell_type": "code",
   "execution_count": 34,
   "metadata": {},
   "outputs": [
    {
     "name": "stdout",
     "output_type": "stream",
     "text": [
      "-40.0\n"
     ]
    }
   ],
   "source": [
    "print(f(5.,5.,1.))"
   ]
  },
  {
   "cell_type": "code",
   "execution_count": 20,
   "metadata": {},
   "outputs": [
    {
     "data": {
      "text/plain": [
       "1"
      ]
     },
     "execution_count": 20,
     "metadata": {},
     "output_type": "execute_result"
    }
   ],
   "source": [
    "import numpy as np\n",
    "\n",
    "v = np.arange(10)\n",
    "v[:1]\n",
    "v[1]"
   ]
  },
  {
   "cell_type": "code",
   "execution_count": 40,
   "metadata": {},
   "outputs": [],
   "source": [
    "@partial(jit, static_argnums = (1,))\n",
    "def foo(x,x_copy):\n",
    "    vals = jnp.zeros(3)\n",
    "    if x_copy[0] > 0:\n",
    "        vals[0] = x[0]\n",
    "    else:\n",
    "        vals[0] = -x[0]\n",
    "\n",
    "    if x_copy[1] > 0:\n",
    "        vals[1] = x[1]\n",
    "    else:\n",
    "        vals[1] = -x[1]\n",
    "\n",
    "    if x_copy[2] > 0:\n",
    "        vals[2] = x[2]\n",
    "    else:\n",
    "        vals[2] = -x[2]\n",
    "        \n",
    "    return vals"
   ]
  },
  {
   "cell_type": "code",
   "execution_count": 41,
   "metadata": {},
   "outputs": [
    {
     "ename": "ValueError",
     "evalue": "Non-hashable static arguments are not supported. An error occurred during a call to 'foo' while trying to hash an object of type <class 'jaxlib.xla_extension.ArrayImpl'>, [2. 3. 4.]. The error was:\nTypeError: unhashable type: 'ArrayImpl'\n",
     "output_type": "error",
     "traceback": [
      "\u001b[1;31m---------------------------------------------------------------------------\u001b[0m",
      "\u001b[1;31mValueError\u001b[0m                                Traceback (most recent call last)",
      "Cell \u001b[1;32mIn[41], line 7\u001b[0m\n\u001b[0;32m      5\u001b[0m pts \u001b[39m=\u001b[39m jnp\u001b[39m.\u001b[39marray([\u001b[39m2.\u001b[39m, \u001b[39m3.\u001b[39m, \u001b[39m4.\u001b[39m])\n\u001b[0;32m      6\u001b[0m pts_copy \u001b[39m=\u001b[39m pts\u001b[39m.\u001b[39mcopy()\n\u001b[1;32m----> 7\u001b[0m foo(\u001b[39mtuple\u001b[39;49m(pts), pts_copy)\n",
      "\u001b[1;31mValueError\u001b[0m: Non-hashable static arguments are not supported. An error occurred during a call to 'foo' while trying to hash an object of type <class 'jaxlib.xla_extension.ArrayImpl'>, [2. 3. 4.]. The error was:\nTypeError: unhashable type: 'ArrayImpl'\n"
     ]
    }
   ],
   "source": [
    "# pts = jnp.array([2.,3.,4.])\n",
    "# pts_copy = pts.copy()\n",
    "# foo(pts,pts_copy)\n",
    "\n",
    "pts = jnp.array([2., 3., 4.])\n",
    "pts_copy = pts.copy()\n",
    "foo(tuple(pts), pts_copy)"
   ]
  },
  {
   "cell_type": "code",
   "execution_count": 64,
   "metadata": {},
   "outputs": [
    {
     "name": "stdout",
     "output_type": "stream",
     "text": [
      "[ 2. -3.  4.]\n"
     ]
    },
    {
     "data": {
      "text/plain": [
       "Array([2., 3., 4.], dtype=float32)"
      ]
     },
     "execution_count": 64,
     "metadata": {},
     "output_type": "execute_result"
    }
   ],
   "source": [
    "from jax import vmap\n",
    "from jax.numpy import zeros, where\n",
    "\n",
    "# @partial(jit, static_argnums = (1,))\n",
    "def foo(x, x_copy):\n",
    "    vals = zeros(3)\n",
    "    vals = where(x > 0, x, -x)\n",
    "    # print(x)\n",
    "    print(x_copy)\n",
    "    return vals\n",
    "\n",
    "pts = jnp.array([2., -3., 4.])\n",
    "pts_copy = pts.copy()\n",
    "# vmap(foo)(pts, pts_copy)\n",
    "foo(pts, pts_copy)"
   ]
  },
  {
   "cell_type": "code",
   "execution_count": 66,
   "metadata": {},
   "outputs": [],
   "source": [
    "from jax import lax"
   ]
  },
  {
   "cell_type": "code",
   "execution_count": 74,
   "metadata": {},
   "outputs": [
    {
     "data": {
      "text/plain": [
       "Array(1, dtype=int32, weak_type=True)"
      ]
     },
     "execution_count": 74,
     "metadata": {},
     "output_type": "execute_result"
    }
   ],
   "source": [
    "val = jnp.array([1.])\n",
    "lax.cond(1 > 0, lambda: 1, lambda: 2)"
   ]
  },
  {
   "cell_type": "code",
   "execution_count": null,
   "metadata": {},
   "outputs": [],
   "source": []
  }
 ],
 "metadata": {
  "kernelspec": {
   "display_name": "Python 3",
   "language": "python",
   "name": "python3"
  },
  "language_info": {
   "codemirror_mode": {
    "name": "ipython",
    "version": 3
   },
   "file_extension": ".py",
   "mimetype": "text/x-python",
   "name": "python",
   "nbconvert_exporter": "python",
   "pygments_lexer": "ipython3",
   "version": "3.11.4"
  },
  "orig_nbformat": 4
 },
 "nbformat": 4,
 "nbformat_minor": 2
}
