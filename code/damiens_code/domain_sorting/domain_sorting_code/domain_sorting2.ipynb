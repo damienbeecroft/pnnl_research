{
 "cells": [
  {
   "attachments": {},
   "cell_type": "markdown",
   "metadata": {},
   "source": [
    "# Domain Sorting \n",
    "## Author: Damien "
   ]
  },
  {
   "attachments": {},
   "cell_type": "markdown",
   "metadata": {},
   "source": [
    "For this implementation, of domain sorting, we assume that the domain and all sub-domains are hyperrectangles."
   ]
  },
  {
   "cell_type": "code",
   "execution_count": 10,
   "metadata": {},
   "outputs": [],
   "source": [
    "import numpy as np\n",
    "from anytree import NodeMixin, RenderTree"
   ]
  },
  {
   "cell_type": "code",
   "execution_count": 11,
   "metadata": {},
   "outputs": [],
   "source": [
    "class RootUtilities:\n",
    "    def __init__(self):\n",
    "        self.levels = [] # list of what classes are on which levels of the domain tree\n",
    "\n",
    "    def tree_level_organizer(self,new_node):\n",
    "        \"\"\"\n",
    "        This function recognizes which level \"new_node\" is on and places the class in the appropriate\n",
    "        level in \"self.levels\".\n",
    "        \"\"\"\n",
    "        depth = new_node.depth # find the depth of the new node\n",
    "        if depth >= len(self.levels): # if \"new_node\" is the first on a new level, add that level to \"self.levels\"\n",
    "            self.levels.append([new_node])\n",
    "        else: # if \"new_node\" is a member of an existing level, add it to that level of \"self.levels\"\n",
    "            self.levels[depth].append([new_node])\n",
    "\n",
    "class SFDomain(RootUtilities,NodeMixin):\n",
    "    def __init__(self,vertices,children=None):\n",
    "        super(SFDomain,self).__init__()\n",
    "        self.vertices = vertices # two opposite vertices that define the n-dimensional box\n",
    "\n",
    "        if children: # set children\n",
    "            self.children = children\n",
    "\n",
    "        self.tree_level_organizer(self)\n",
    "\n",
    "class MFDomain(NodeMixin):\n",
    "    def __init__(self,vertices,parent=None,children=None):\n",
    "        super(MFDomain,self).__init__()\n",
    "        self.vertices = vertices # two opposite vertices that define the n-dimensional box\n",
    "        self.parent = parent\n",
    "\n",
    "        if children: # set children\n",
    "            self.children = children\n",
    "\n",
    "        self.root.tree_level_organizer(self)\n",
    "        "
   ]
  },
  {
   "cell_type": "code",
   "execution_count": 12,
   "metadata": {},
   "outputs": [],
   "source": [
    "A = SFDomain([0.,1.])\n",
    "B = MFDomain([0.5,1.],parent = A)\n",
    "C = MFDomain([0.,0.5],parent = A)\n",
    "D = MFDomain([0.75,1.],parent = B)\n",
    "E = MFDomain([0.5,0.75],parent = B)"
   ]
  },
  {
   "cell_type": "code",
   "execution_count": 13,
   "metadata": {},
   "outputs": [
    {
     "name": "stdout",
     "output_type": "stream",
     "text": [
      "<__main__.SFDomain object at 0x00000270ADE6A410>\n",
      "├── <__main__.MFDomain object at 0x00000270AE2BF610>\n",
      "│   ├── <__main__.MFDomain object at 0x00000270AF243D90>\n",
      "│   └── <__main__.MFDomain object at 0x00000270AE2E3690>\n",
      "└── <__main__.MFDomain object at 0x00000270AF242850>\n"
     ]
    }
   ],
   "source": [
    "print(RenderTree(A))"
   ]
  },
  {
   "cell_type": "code",
   "execution_count": 14,
   "metadata": {},
   "outputs": [
    {
     "data": {
      "text/plain": [
       "[[<__main__.SFDomain at 0x270ade6a410>],\n",
       " [<__main__.MFDomain at 0x270ae2bf610>,\n",
       "  [<__main__.MFDomain at 0x270af242850>]],\n",
       " [<__main__.MFDomain at 0x270af243d90>,\n",
       "  [<__main__.MFDomain at 0x270ae2e3690>]]]"
      ]
     },
     "execution_count": 14,
     "metadata": {},
     "output_type": "execute_result"
    }
   ],
   "source": [
    "A.levels"
   ]
  },
  {
   "cell_type": "code",
   "execution_count": 17,
   "metadata": {},
   "outputs": [
    {
     "data": {
      "text/plain": [
       "array([8, 5, 5])"
      ]
     },
     "execution_count": 17,
     "metadata": {},
     "output_type": "execute_result"
    }
   ],
   "source": [
    "incs = np.array([4,5,1])\n",
    "a = np.array([0,5,6,3,8,5])\n",
    "a[incs]"
   ]
  },
  {
   "cell_type": "code",
   "execution_count": 20,
   "metadata": {},
   "outputs": [
    {
     "data": {
      "text/plain": [
       "array([0, 1, 2, 3, 4, 5, 6, 7, 8, 9])"
      ]
     },
     "execution_count": 20,
     "metadata": {},
     "output_type": "execute_result"
    }
   ],
   "source": [
    "v = np.array([np.arange(10)])\n",
    "v[0]"
   ]
  },
  {
   "cell_type": "code",
   "execution_count": null,
   "metadata": {},
   "outputs": [],
   "source": []
  },
  {
   "cell_type": "code",
   "execution_count": null,
   "metadata": {},
   "outputs": [],
   "source": []
  },
  {
   "cell_type": "code",
   "execution_count": 62,
   "metadata": {},
   "outputs": [],
   "source": [
    "# class Root(NodeMixin):\n",
    "#     def __init__(self,name,vertices,children=None,pts=None):\n",
    "#         super(Root,self).__init__()\n",
    "#         self.vertices = vertices # two opposite vertices that define the n-dimensional box\n",
    "#         self.parent = None\n",
    "#         self.id = name\n",
    "\n",
    "#         if children: # set children\n",
    "#             self.children = children\n",
    "\n",
    "#     def add_domains(self,vertices_list):\n",
    "#         # this function adds a level to the neural domain tree\n",
    "#         if self.height == 0: # if the network depth is only the root make the root the parent of all the vertices\n",
    "#             for vertices in vertices_list:\n",
    "#                 Leaf(str(vertices),vertices,parent=self)\n",
    "#         else:\n",
    "#             parents = self.find_parents(vertices_list)\n",
    "#             for parent in parents:\n",
    "#                 Leaf(str(vertices),vertices,parent=parent)\n",
    "\n",
    "#     def find_parent(self,vertices):\n",
    "#         parent = self\n",
    "#         flag = True\n",
    "#         while flag:\n",
    "#             flag = False\n",
    "#             temp = parent.children\n",
    "#             for child in temp:\n",
    "#                 condition = (child.vertices[0] <= vertices[0]) & (vertices[1] <= child.vertices[1])\n",
    "#                 print(condition)\n",
    "#                 if(condition):\n",
    "#                     flag = True\n",
    "#                     parent = child\n",
    "#                     break\n",
    "#         return parent\n",
    "\n",
    "#     def find_parents(self,vertices_list):\n",
    "#         parents = []\n",
    "#         for vertices in vertices_list:\n",
    "#             parent = self.find_parent(vertices)\n",
    "#             parents.append(parent)\n",
    "\n",
    "# class Leaf(NodeMixin):\n",
    "#     def __init__(self,name,vertices,parent=None,children=None):\n",
    "#         # super(Root,self).__init__()\n",
    "#         self.vertices = vertices # two opposite vertices that define the n-dimensional box\n",
    "#         self.parent = parent # parent domain of the current domain\n",
    "#         self.id = name\n",
    "        \n",
    "#         if children: # set children\n",
    "#             self.children = children"
   ]
  },
  {
   "cell_type": "code",
   "execution_count": 63,
   "metadata": {},
   "outputs": [],
   "source": [
    "# root = Root(str([[0.0],[1.0]]),[[0.0],[1.0]])\n",
    "# vertices_list = [[[0.0],[0.4]],[[0.3],[0.7]],[[0.6],[1.0]]]\n",
    "# root.add_domains(vertices_list)"
   ]
  },
  {
   "cell_type": "code",
   "execution_count": 64,
   "metadata": {},
   "outputs": [],
   "source": [
    "# root.children[0].vertices"
   ]
  },
  {
   "cell_type": "code",
   "execution_count": 65,
   "metadata": {},
   "outputs": [],
   "source": [
    "# print(RenderTree(root))"
   ]
  },
  {
   "cell_type": "code",
   "execution_count": 66,
   "metadata": {},
   "outputs": [],
   "source": [
    "# vlist1 = [[[0.0],[0.2]],[[0.3],[0.4]]]\n",
    "# root.add_domains(vlist1)"
   ]
  },
  {
   "cell_type": "code",
   "execution_count": 67,
   "metadata": {},
   "outputs": [],
   "source": [
    "# print(RenderTree(root))"
   ]
  },
  {
   "cell_type": "code",
   "execution_count": 68,
   "metadata": {},
   "outputs": [],
   "source": [
    "# root.children[0].vertices"
   ]
  },
  {
   "cell_type": "code",
   "execution_count": 69,
   "metadata": {},
   "outputs": [],
   "source": [
    "# root.name"
   ]
  },
  {
   "cell_type": "code",
   "execution_count": 70,
   "metadata": {},
   "outputs": [],
   "source": [
    "# (([0.0] <= [0.0]) & ([0.2] <= [0.4])).all()\n"
   ]
  },
  {
   "cell_type": "code",
   "execution_count": 71,
   "metadata": {},
   "outputs": [],
   "source": [
    "# root.height"
   ]
  },
  {
   "cell_type": "code",
   "execution_count": 72,
   "metadata": {},
   "outputs": [],
   "source": [
    "# root.depth"
   ]
  },
  {
   "cell_type": "code",
   "execution_count": null,
   "metadata": {},
   "outputs": [],
   "source": []
  },
  {
   "cell_type": "code",
   "execution_count": null,
   "metadata": {},
   "outputs": [],
   "source": []
  }
 ],
 "metadata": {
  "kernelspec": {
   "display_name": "Python 3",
   "language": "python",
   "name": "python3"
  },
  "language_info": {
   "codemirror_mode": {
    "name": "ipython",
    "version": 3
   },
   "file_extension": ".py",
   "mimetype": "text/x-python",
   "name": "python",
   "nbconvert_exporter": "python",
   "pygments_lexer": "ipython3",
   "version": "3.11.4"
  },
  "orig_nbformat": 4
 },
 "nbformat": 4,
 "nbformat_minor": 2
}
