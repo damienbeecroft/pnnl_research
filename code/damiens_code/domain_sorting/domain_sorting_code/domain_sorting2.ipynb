{
 "cells": [
  {
   "attachments": {},
   "cell_type": "markdown",
   "metadata": {},
   "source": [
    "# Domain Sorting \n",
    "## Author: Damien "
   ]
  },
  {
   "attachments": {},
   "cell_type": "markdown",
   "metadata": {},
   "source": [
    "For this implementation, of domain sorting, we assume that the domain and all sub-domains are hyperrectangles."
   ]
  },
  {
   "cell_type": "code",
   "execution_count": 10,
   "metadata": {},
   "outputs": [],
   "source": [
    "import numpy as np\n",
    "from anytree import NodeMixin, RenderTree\n",
    "import math\n",
    "import matplotlib.pyplot as plt"
   ]
  },
  {
   "cell_type": "code",
   "execution_count": 2,
   "metadata": {},
   "outputs": [],
   "source": [
    "class MFDomain(NodeMixin):\n",
    "    def __init__(self,vertices,parent=None,children=None):\n",
    "        super(MFDomain,self).__init__()\n",
    "        self.vertices = np.array(vertices) # two opposite vertices that define the n-dimensional box\n",
    "        self.parent = parent\n",
    "\n",
    "        if children: # set children\n",
    "            self.children = children\n",
    "\n",
    "        self.root.tree_level_organizer(self)\n",
    "\n",
    "    def weight(self,x):\n",
    "        \"\"\"\n",
    "        This is the coefficient weight function of the neural domain\n",
    "        # NOTE: This function only currently works for 1D functions. I need to implement a high dimensional version\n",
    "        \"\"\"\n",
    "        vertices = self.vertices\n",
    "        mu = (vertices[0] + vertices[1])/2\n",
    "        sigma = (vertices[1] - vertices[0])/2\n",
    "        w = 1+ np.cos(math.pi*(x-mu)/sigma)\n",
    "        w = w**2\n",
    "        return w\n",
    "\n",
    "    def apply_mf(self,pts,u_lf):\n",
    "        val = np.ones(len(pts))\n",
    "        return val\n"
   ]
  },
  {
   "cell_type": "code",
   "execution_count": 6,
   "metadata": {},
   "outputs": [],
   "source": [
    "class RootUtilities:\n",
    "    def __init__(self):\n",
    "        self.levels = [] # list of what classes are on which levels of the domain tree\n",
    "\n",
    "    def tree_level_organizer(self,new_node):\n",
    "        \"\"\"\n",
    "        This function recognizes which level \"new_node\" is on and places the class in the appropriate\n",
    "        level in \"self.levels\".\n",
    "        \"\"\"\n",
    "        depth = new_node.depth # find the depth of the new node\n",
    "        if depth >= len(self.levels): # if \"new_node\" is the first on a new level, add that level to \"self.levels\"\n",
    "            self.levels.append([new_node])\n",
    "        else: # if \"new_node\" is a member of an existing level, add it to that level of \"self.levels\"\n",
    "            self.levels[depth].append(new_node)\n",
    "\n",
    "class SFDomain(RootUtilities,NodeMixin):\n",
    "    def __init__(self,vertices,children=None):\n",
    "        super(SFDomain,self).__init__()\n",
    "        self.vertices = np.array(vertices) # two opposite vertices that define the n-dimensional box\n",
    "\n",
    "        if children: # set children\n",
    "            self.children = children\n",
    "\n",
    "        self.pts = np.array([]) # the points on the interior of the root domain\n",
    "        self.global_indices = np.arange(1) # NOTE: This is a hard-coded batch size. This needs to be changed.\n",
    "\n",
    "        self.tree_level_organizer(self)\n",
    "    \n",
    "    def apply_sf(self,pts): # dummy function to test \"evaluate_neural_domain_tree\"\n",
    "        val = np.ones(len(pts))\n",
    "        return val\n",
    "\n",
    "    def find_interior_points(self,verts,parent_pts): # TESTED\n",
    "        \"\"\"\n",
    "        Creates a mask that communicates the locations of which points in \"pts\" are in the hyperrectangle\n",
    "        defined by verts.\n",
    "        \"\"\"\n",
    "        indices = []\n",
    "        pts = []\n",
    "        number_of_points = len(parent_pts)\n",
    "        for i in range(number_of_points):\n",
    "            condition = ((verts[0] < parent_pts[i]) & (parent_pts[i] < verts[1])).all()\n",
    "            if condition:\n",
    "                indices.append(i)\n",
    "                pts.append(parent_pts[i])\n",
    "        return np.array(indices), np.array(pts)\n",
    "\n",
    "    def evaluate_neural_domain_tree(self,pts): # TESTED\n",
    "        \"\"\"\n",
    "        Evaluate the neural domain tree layer by layer. \n",
    "        NOTE: The current code only works if the support of the union of the domains at each level is the original domain.\n",
    "        \"\"\"\n",
    "        self.pts = pts # save points to class\n",
    "        u_pred = self.apply_sf(pts)\n",
    "        u_preds = np.zeros((len(self.levels),len(pts)))\n",
    "        u_preds[0,:] = u_pred # the first prediction of the solution is the single fidelity net\n",
    "        self.global_indices = np.arange(len(pts)) # NOTE: This is inefficient. Find a better way to set this\n",
    "        iter = 1\n",
    "        for level in self.levels[1:]: # iterates through the levels of the domain tree (skipping the first level which contains the root)\n",
    "            u_pred = np.zeros(len(pts))\n",
    "            for mfdomain in level: # iterates through the MFDomains in each level of the tree. NOTE: parallelize this loop\n",
    "                parent = mfdomain.parent        \n",
    "                local_indices, mfdomain.pts = self.find_interior_points(mfdomain.vertices,parent.pts)\n",
    "                mfdomain.global_indices = parent.global_indices[local_indices] # get the indices of the points in the support of mfdomain\n",
    "                output = mfdomain.apply_mf(mfdomain.pts,u_preds[-1][mfdomain.global_indices]) # analyze the local network\n",
    "                u_pred[mfdomain.global_indices] += output # add the output to the prediction of the solution\n",
    "            u_preds[iter,:] = u_pred\n",
    "            iter += 1\n",
    "        return u_preds"
   ]
  },
  {
   "cell_type": "markdown",
   "metadata": {},
   "source": [
    "### Testing the \"evaluate_neural_domain_tree\" function"
   ]
  },
  {
   "cell_type": "code",
   "execution_count": 7,
   "metadata": {},
   "outputs": [],
   "source": [
    "A = SFDomain([[0.0],[1.0]])\n",
    "B = MFDomain([[0.0],[0.6]],parent = A)\n",
    "C = MFDomain([[0.4],[1.0]],parent = A)\n",
    "D = MFDomain([[0.0],[0.3]],parent = B)\n",
    "E = MFDomain([[0.2],[0.5]],parent = B)\n",
    "F = MFDomain([[0.4],[0.7]],parent = C)\n",
    "G = MFDomain([[0.6],[1.0]],parent = C)"
   ]
  },
  {
   "cell_type": "code",
   "execution_count": 15,
   "metadata": {},
   "outputs": [
    {
     "data": {
      "image/png": "[encoded data removed]",
      "text/plain": [
       "<Figure size 640x480 with 1 Axes>"
      ]
     },
     "metadata": {},
     "output_type": "display_data"
    },
    {
     "data": {
      "text/plain": [
       "[<matplotlib.lines.Line2D at 0x22340185e50>]"
      ]
     },
     "execution_count": 15,
     "metadata": {},
     "output_type": "execute_result"
    },
    {
     "data": {
      "image/png": "[encoded data removed]",
      "text/plain": [
       "<Figure size 640x480 with 1 Axes>"
      ]
     },
     "metadata": {},
     "output_type": "display_data"
    }
   ],
   "source": [
    "pts = np.linspace(0,1,101)\n",
    "pts = pts.reshape(-1,1)\n",
    "u_preds = A.evaluate_neural_domain_tree(pts)\n",
    "plt.plot(pts,u_preds[1,:])\n",
    "plt.show()\n",
    "plt.plot(pts,u_preds[-1,:])\n",
    "plt.show()"
   ]
  },
  {
   "cell_type": "code",
   "execution_count": 32,
   "metadata": {},
   "outputs": [
    {
     "data": {
      "text/plain": [
       "False"
      ]
     },
     "execution_count": 32,
     "metadata": {},
     "output_type": "execute_result"
    }
   ],
   "source": [
    "((np.array([0.6]) <= np.array([0.6])) & (True)).all()"
   ]
  },
  {
   "cell_type": "markdown",
   "metadata": {},
   "source": [
    "### Testing the \"find_interior_pts\" function"
   ]
  },
  {
   "cell_type": "code",
   "execution_count": 20,
   "metadata": {},
   "outputs": [],
   "source": [
    "A = SFDomain([[0.],[1.]])\n",
    "B = MFDomain([[0.5],[1.]],parent = A)\n",
    "C = MFDomain([[0.],[0.5]],parent = A)\n",
    "D = MFDomain([[0.75],[1.]],parent = B)\n",
    "E = MFDomain([[0.5],[0.75]],parent = B)"
   ]
  },
  {
   "cell_type": "code",
   "execution_count": 22,
   "metadata": {},
   "outputs": [
    {
     "data": {
      "text/plain": [
       "(array([0, 1, 2, 5]),\n",
       " array([[0.2, 0.6],\n",
       "        [0.6, 1. ],\n",
       "        [1. , 1. ],\n",
       "        [0. , 0. ]]))"
      ]
     },
     "execution_count": 22,
     "metadata": {},
     "output_type": "execute_result"
    }
   ],
   "source": [
    "# 2D example\n",
    "pts = np.array([[0.2,0.6],[0.6,1.0],[1.0,1.0],[5.0,0.4],[-0.8,-0.8],[0.0,0.0]])\n",
    "verts = np.array([[0.0,0.0],[1.0,1.0]])\n",
    "A.find_interior_points(verts,pts)"
   ]
  },
  {
   "cell_type": "code",
   "execution_count": 19,
   "metadata": {},
   "outputs": [
    {
     "data": {
      "text/plain": [
       "(array([1, 2, 3, 5]),\n",
       " array([[0.6],\n",
       "        [0.3],\n",
       "        [0.7],\n",
       "        [0.4]]))"
      ]
     },
     "execution_count": 19,
     "metadata": {},
     "output_type": "execute_result"
    }
   ],
   "source": [
    "# 1D example\n",
    "pts = np.array([[0.2],[0.6],[0.3],[0.7],[0.9],[0.4],[0.8]])\n",
    "verts = np.array([[0.3],[0.7]])\n",
    "A.find_interior_points(verts,pts)"
   ]
  },
  {
   "cell_type": "markdown",
   "metadata": {},
   "source": [
    "### Showing that the code can take the nodes added to the tree and place them in the array list"
   ]
  },
  {
   "cell_type": "code",
   "execution_count": 20,
   "metadata": {},
   "outputs": [],
   "source": [
    "# A = SFDomain([0.,1.])\n",
    "# B = MFDomain([0.5,1.],parent = A)\n",
    "# C = MFDomain([0.,0.5],parent = A)\n",
    "# D = MFDomain([0.75,1.],parent = B)\n",
    "# E = MFDomain([0.5,0.75],parent = B)\n",
    "A = SFDomain([[0.],[1.]])\n",
    "B = MFDomain([[0.5],[1.]],parent = A)\n",
    "C = MFDomain([[0.],[0.5]],parent = A)\n",
    "D = MFDomain([[0.75],[1.]],parent = B)\n",
    "E = MFDomain([[0.5],[0.75]],parent = B)"
   ]
  },
  {
   "cell_type": "code",
   "execution_count": 21,
   "metadata": {},
   "outputs": [
    {
     "name": "stdout",
     "output_type": "stream",
     "text": [
      "<__main__.SFDomain object at 0x000002E6E383BA90>\n",
      "├── <__main__.MFDomain object at 0x000002E6E406FE10>\n",
      "│   ├── <__main__.MFDomain object at 0x000002E6E4C2B8D0>\n",
      "│   └── <__main__.MFDomain object at 0x000002E6E4C2BF10>\n",
      "└── <__main__.MFDomain object at 0x000002E6E4C544D0>\n"
     ]
    }
   ],
   "source": [
    "print(RenderTree(A))"
   ]
  },
  {
   "cell_type": "code",
   "execution_count": 22,
   "metadata": {},
   "outputs": [
    {
     "data": {
      "text/plain": [
       "[[<__main__.SFDomain at 0x2e6e383ba90>],\n",
       " [<__main__.MFDomain at 0x2e6e406fe10>, <__main__.MFDomain at 0x2e6e4c544d0>],\n",
       " [<__main__.MFDomain at 0x2e6e4c2b8d0>, <__main__.MFDomain at 0x2e6e4c2bf10>]]"
      ]
     },
     "execution_count": 22,
     "metadata": {},
     "output_type": "execute_result"
    }
   ],
   "source": [
    "A.levels"
   ]
  },
  {
   "cell_type": "markdown",
   "metadata": {},
   "source": [
    "### Testing how to use vmap in jax\n"
   ]
  },
  {
   "cell_type": "code",
   "execution_count": 36,
   "metadata": {},
   "outputs": [],
   "source": [
    "from jax import vmap\n",
    "import jax.numpy as jnp\n",
    "# import numpy as np"
   ]
  },
  {
   "cell_type": "code",
   "execution_count": 37,
   "metadata": {},
   "outputs": [],
   "source": [
    "def foo(W,x):\n",
    "    v = jnp.dot(x,W)\n",
    "    return v"
   ]
  },
  {
   "cell_type": "code",
   "execution_count": 44,
   "metadata": {},
   "outputs": [
    {
     "data": {
      "text/plain": [
       "Array([[ 1,  2],\n",
       "       [ 6,  8],\n",
       "       [15, 18]], dtype=int32)"
      ]
     },
     "execution_count": 44,
     "metadata": {},
     "output_type": "execute_result"
    }
   ],
   "source": [
    "vmap(foo,(0,0))(jnp.array([[1,2],[3,4],[5,6]]),jnp.array([1,2,3]))"
   ]
  },
  {
   "cell_type": "code",
   "execution_count": null,
   "metadata": {},
   "outputs": [],
   "source": []
  },
  {
   "cell_type": "code",
   "execution_count": null,
   "metadata": {},
   "outputs": [],
   "source": []
  },
  {
   "cell_type": "code",
   "execution_count": null,
   "metadata": {},
   "outputs": [],
   "source": []
  }
 ],
 "metadata": {
  "kernelspec": {
   "display_name": "Python 3",
   "language": "python",
   "name": "python3"
  },
  "language_info": {
   "codemirror_mode": {
    "name": "ipython",
    "version": 3
   },
   "file_extension": ".py",
   "mimetype": "text/x-python",
   "name": "python",
   "nbconvert_exporter": "python",
   "pygments_lexer": "ipython3",
   "version": "3.11.4"
  },
  "orig_nbformat": 4
 },
 "nbformat": 4,
 "nbformat_minor": 2
}
