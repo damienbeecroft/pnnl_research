{
 "cells": [
  {
   "attachments": {},
   "cell_type": "markdown",
   "metadata": {},
   "source": [
    "# Domain Sorting \n",
    "## Author: Damien "
   ]
  },
  {
   "attachments": {},
   "cell_type": "markdown",
   "metadata": {},
   "source": [
    "For this implementation, of domain sorting, we assume that the domain and all sub-domains are hyperrectangles."
   ]
  },
  {
   "cell_type": "code",
   "execution_count": 15,
   "metadata": {},
   "outputs": [],
   "source": [
    "import numpy as np\n",
    "from anytree import NodeMixin, RenderTree"
   ]
  },
  {
   "cell_type": "code",
   "execution_count": 16,
   "metadata": {},
   "outputs": [],
   "source": [
    "class Root(NodeMixin):\n",
    "    def __init__(self,vertices,children=None,pts=None):\n",
    "        super(Root,self).__init__()\n",
    "        self.vertices = vertices # two opposite vertices that define the n-dimensional box\n",
    "        self.parent = None\n",
    "        # self.name = \"root\"\n",
    "\n",
    "        if children: # set children\n",
    "            self.children = children\n",
    "\n",
    "    def add_domains(self,vertices_list):\n",
    "        # this function adds a level to the neural domain tree\n",
    "        if self.depth == 0: # if the network depth is only the root make the root the parent of all the vertices\n",
    "            for vertices in vertices_list:\n",
    "                Leaf(vertices,parent=self)\n",
    "        else:\n",
    "            parents = self.find_parents(vertices_list)\n",
    "            for parent in parents:\n",
    "                Leaf(vertices,parent=parent)\n",
    "\n",
    "    def find_parent(self,vertices):\n",
    "        if self.is_leaf == True:\n",
    "            return self\n",
    "        parent = self\n",
    "        flag = True\n",
    "        while flag:\n",
    "            flag = False\n",
    "            for child in parent.children:\n",
    "                condition = ((child.vertices[0] <= vertices[0]) & (vertices[1] <= child.vertices[1])).all()\n",
    "                if(condition):\n",
    "                    flag = True\n",
    "                    parent = child\n",
    "                    break\n",
    "\n",
    "        return parent\n",
    "\n",
    "    def find_parents(self,vertices_list):\n",
    "        parents = []\n",
    "        for vertices in vertices_list:\n",
    "            parent = self.find_parent(vertices)\n",
    "            parents.append(parent)\n",
    "\n",
    "\n",
    "class Leaf(NodeMixin):\n",
    "    def __init__(self,vertices,parent=None,children=None):\n",
    "        # super(Root,self).__init__()\n",
    "        self.vertices = vertices # two opposite vertices that define the n-dimensional box\n",
    "        self.parent = parent # parent domain of the current domain\n",
    "        \n",
    "        if children: # set children\n",
    "            self.children = children"
   ]
  },
  {
   "cell_type": "code",
   "execution_count": 17,
   "metadata": {},
   "outputs": [],
   "source": [
    "root = Root([[0.0],[1.0]])\n",
    "vertices_list = [[[0.0],[0.4]],[[0.3],[0.7]],[[0.6],[1.0]]]\n",
    "root.add_domains(vertices_list)"
   ]
  },
  {
   "cell_type": "code",
   "execution_count": 18,
   "metadata": {},
   "outputs": [
    {
     "data": {
      "text/plain": [
       "[[0.6], [1.0]]"
      ]
     },
     "execution_count": 18,
     "metadata": {},
     "output_type": "execute_result"
    }
   ],
   "source": [
    "root.children[2].vertices"
   ]
  },
  {
   "cell_type": "code",
   "execution_count": 20,
   "metadata": {},
   "outputs": [
    {
     "name": "stdout",
     "output_type": "stream",
     "text": [
      "<__main__.Root object at 0x000002C813A916D0>\n",
      "├── <__main__.Leaf object at 0x000002C813A80150>\n",
      "├── <__main__.Leaf object at 0x000002C8127B3210>\n",
      "└── <__main__.Leaf object at 0x000002C813A929D0>\n"
     ]
    }
   ],
   "source": [
    "# print(RenderTree(root))"
   ]
  },
  {
   "cell_type": "code",
   "execution_count": 22,
   "metadata": {},
   "outputs": [
    {
     "data": {
      "text/plain": [
       "1"
      ]
     },
     "execution_count": 22,
     "metadata": {},
     "output_type": "execute_result"
    }
   ],
   "source": [
    "root.children[0].depth"
   ]
  },
  {
   "attachments": {},
   "cell_type": "markdown",
   "metadata": {},
   "source": [
    "## Saving and loading tree"
   ]
  }
 ],
 "metadata": {
  "kernelspec": {
   "display_name": "Python 3",
   "language": "python",
   "name": "python3"
  },
  "language_info": {
   "codemirror_mode": {
    "name": "ipython",
    "version": 3
   },
   "file_extension": ".py",
   "mimetype": "text/x-python",
   "name": "python",
   "nbconvert_exporter": "python",
   "pygments_lexer": "ipython3",
   "version": "3.11.4"
  },
  "orig_nbformat": 4
 },
 "nbformat": 4,
 "nbformat_minor": 2
}
