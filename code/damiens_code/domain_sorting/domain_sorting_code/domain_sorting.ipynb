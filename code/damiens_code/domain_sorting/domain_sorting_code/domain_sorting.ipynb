{
 "cells": [
  {
   "attachments": {},
   "cell_type": "markdown",
   "metadata": {},
   "source": [
    "# Domain Sorting \n",
    "## Author: Damien "
   ]
  },
  {
   "attachments": {},
   "cell_type": "markdown",
   "metadata": {},
   "source": [
    "For this implementation, of domain sorting, we assume that the domain and all sub-domains are hyperrectangles."
   ]
  },
  {
   "cell_type": "code",
   "execution_count": 69,
   "metadata": {},
   "outputs": [],
   "source": [
    "import numpy as np\n",
    "from anytree import NodeMixin, RenderTree"
   ]
  },
  {
   "cell_type": "code",
   "execution_count": 147,
   "metadata": {},
   "outputs": [],
   "source": [
    "class Domain_Tree:\n",
    "    \"\"\"\n",
    "    Author:         Damien Beecroft\n",
    "    Domain_Tree:    A super of the Domain class that stores important functions for working with\n",
    "                    the domain decomposition tree.\n",
    "    \"\"\"\n",
    "    def __init__(self):\n",
    "        pass\n",
    "\n",
    "    def find_interior_pts(self): # find which of the parent's points are in the current domain\n",
    "        parent_pts = self.parent.pts # get the parent's points\n",
    "        verts = self.vertices\n",
    "        mask = [((verts[0] <= pt) & (pt <= verts[1])).all() for pt in parent_pts] # find which of the parent's points are in the current domain\n",
    "        domain_pts = parent_pts[mask]\n",
    "        return domain_pts\n",
    "    \n",
    "class Domain(Domain_Tree,NodeMixin):\n",
    "    \"\"\"\n",
    "    Author:     Damien Beecroft\n",
    "    Domain:     A class that defines properties of the relevant domains used for tracking where each\n",
    "                neural network has support.\n",
    "    \"\"\"\n",
    "    def __init__(self,vertices,parent=None,children=None,pts=None,root=False):\n",
    "        super(Domain,self).__init__()\n",
    "        self.vertices = vertices # two opposite vertices that define the n-dimensional box\n",
    "        self.parent = parent # parent domain of the current domain\n",
    "\n",
    "        if parent: # set level\n",
    "            self.lvl = parent.lvl + 1\n",
    "        else:\n",
    "            self.lvl = 0\n",
    "\n",
    "        if children: # set children\n",
    "            self.children = children\n",
    "\n",
    "        if root: # determine points on the interior of the domain\n",
    "            self.pts = pts # if this is the root node, just assign points\n",
    "        else:\n",
    "            self.pts = self.find_interior_pts() # otherwise, find which points are in the domain of the current domain"
   ]
  },
  {
   "cell_type": "code",
   "execution_count": 148,
   "metadata": {},
   "outputs": [],
   "source": [
    "dom0 = np.array([0.,1.])\n",
    "dom10 = np.array([0.,0.6])\n",
    "dom11 = np.array([0.4,1.])\n",
    "dom20 = np.array([0.,0.35])\n",
    "dom21 = np.array([0.25,0.6])"
   ]
  },
  {
   "cell_type": "code",
   "execution_count": 149,
   "metadata": {},
   "outputs": [],
   "source": [
    "D0 = Domain(dom0,pts=np.array([[0.2],[0.6],[0.9],[0.4],[0.8]]),root=True)\n",
    "D10 = Domain(dom10,parent=D0)\n",
    "D11 = Domain(dom10,parent=D0)\n",
    "D20 = Domain(dom20,parent=D10)\n",
    "D21 = Domain(dom20,parent=D10)"
   ]
  },
  {
   "cell_type": "code",
   "execution_count": 158,
   "metadata": {},
   "outputs": [
    {
     "name": "stdout",
     "output_type": "stream",
     "text": [
      "(<__main__.Domain object at 0x0000024A3E42D910>, <__main__.Domain object at 0x0000024A3E49D450>)\n",
      "[0.  0.6]\n",
      "[[0.2]\n",
      " [0.6]\n",
      " [0.4]]\n"
     ]
    }
   ],
   "source": [
    "print(D10.children)\n",
    "print(D10.vertices)\n",
    "print(D10.pts)"
   ]
  },
  {
   "cell_type": "code",
   "execution_count": null,
   "metadata": {},
   "outputs": [],
   "source": []
  }
 ],
 "metadata": {
  "kernelspec": {
   "display_name": "Python 3",
   "language": "python",
   "name": "python3"
  },
  "language_info": {
   "codemirror_mode": {
    "name": "ipython",
    "version": 3
   },
   "file_extension": ".py",
   "mimetype": "text/x-python",
   "name": "python",
   "nbconvert_exporter": "python",
   "pygments_lexer": "ipython3",
   "version": "3.11.4"
  },
  "orig_nbformat": 4
 },
 "nbformat": 4,
 "nbformat_minor": 2
}
