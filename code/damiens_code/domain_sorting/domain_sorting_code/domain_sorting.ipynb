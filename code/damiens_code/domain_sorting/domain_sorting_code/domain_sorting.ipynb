{
 "cells": [
  {
   "attachments": {},
   "cell_type": "markdown",
   "metadata": {},
   "source": [
    "# Domain Sorting \n",
    "## Author: Damien "
   ]
  },
  {
   "attachments": {},
   "cell_type": "markdown",
   "metadata": {},
   "source": [
    "For this implementation, of domain sorting, we assume that the domain and all sub-domains are hyperrectangles."
   ]
  },
  {
   "cell_type": "code",
   "execution_count": 1,
   "metadata": {},
   "outputs": [],
   "source": [
    "import numpy as np\n",
    "from anytree import NodeMixin, RenderTree"
   ]
  },
  {
   "cell_type": "code",
   "execution_count": 2,
   "metadata": {},
   "outputs": [],
   "source": [
    "class DomainTree:\n",
    "    \"\"\"\n",
    "    Author:         Damien Beecroft\n",
    "    Domain_Tree:    A super of the Domain class that stores important functions for working with\n",
    "                    the domain decomposition tree.\n",
    "    \"\"\"\n",
    "    def __init__(self):\n",
    "        self.dnn_size = [3,80,80,80,2]\n",
    "        self.nonlin_size = [3,80,80,80,2]\n",
    "        self.lin_size = [3,4,2]\n",
    "    \n",
    "    def find_interior_pts(self): # find which of the parent's points are in the current domain\n",
    "        parent_pts = self.parent.pts # get the parent's points\n",
    "        verts = self.vertices\n",
    "        mask = [((verts[0] <= pt) & (pt <= verts[1])).all() for pt in parent_pts] # find which of the parent's points are in the current domain\n",
    "        domain_pts = parent_pts[mask]\n",
    "        return domain_pts\n",
    "\n",
    "class Domain(DomainTree,NodeMixin):\n",
    "    \"\"\"\n",
    "    Author:     Damien Beecroft\n",
    "    Domain:     A class that defines properties of the relevant domains used for tracking where each\n",
    "                neural network has support. The local properties of the nodes are defined here. The \"global\"\n",
    "                variables are stored in the support class: DomainTree.\n",
    "    =================================================================================================\n",
    "    vertices:   Two opposite points on the hyperrectangle used to define the domain. \n",
    "    parent:     The node corresponding to the domain that the current node's domain is the immediate subset of\n",
    "    children:   The nodes whose domains are the immediate subsets of the current domain.\n",
    "    pts:        List of collocation points for the neural network to be evaluated at. This value is only passed \n",
    "                in for the root node. All other nodes determine the points determine their interior points through\n",
    "                the find_interior points function in the Domain_Tree class.\n",
    "    net_sizes:  [base net shape, nonlinear net shape, linear net shape]. The base net is the \n",
    "    \"\"\"\n",
    "    def __init__(self,vertices,parent=None,children=None,pts=None):\n",
    "        super(Domain,self).__init__()\n",
    "        self.vertices = vertices # two opposite vertices that define the n-dimensional box\n",
    "        self.parent = parent # parent domain of the current domain\n",
    "\n",
    "        if parent: # set level\n",
    "            self.lvl = parent.lvl + 1\n",
    "            self.pts = self.find_interior_pts() # otherwise, find which points are in the domain of the current domain\n",
    "            # self.dnn = \n",
    "        else:\n",
    "            self.lvl = 0\n",
    "            self.pts = pts # if this is the root node, just assign points\n",
    "            # self.lin_net = \n",
    "            # self.nonlin_net = \n",
    "\n",
    "        if children: # set children\n",
    "            self.children = children"
   ]
  },
  {
   "cell_type": "code",
   "execution_count": 3,
   "metadata": {},
   "outputs": [],
   "source": [
    "dom0 = np.array([[0.],[1.]])\n",
    "dom10 = np.array([[0.],[0.6]])\n",
    "dom11 = np.array([[0.4],[1.]])\n",
    "dom20 = np.array([[0.],[0.35]])\n",
    "dom21 = np.array([[0.25],[0.6]])"
   ]
  },
  {
   "cell_type": "code",
   "execution_count": 4,
   "metadata": {},
   "outputs": [],
   "source": [
    "D = []\n",
    "D0 = Domain(dom0,pts=np.array([[0.2],[0.6],[0.9],[0.4],[0.8]]))\n",
    "D10 = Domain(dom10,parent=D0)\n",
    "D11 = Domain(dom10,parent=D0)\n",
    "D20 = Domain(dom20,parent=D10)\n",
    "D21 = Domain(dom20,parent=D10)"
   ]
  },
  {
   "cell_type": "code",
   "execution_count": 5,
   "metadata": {},
   "outputs": [
    {
     "data": {
      "text/plain": [
       "(<__main__.Domain at 0x18e11d5fdd0>, <__main__.Domain at 0x18e11868c50>)"
      ]
     },
     "execution_count": 5,
     "metadata": {},
     "output_type": "execute_result"
    }
   ],
   "source": []
  },
  {
   "cell_type": "code",
   "execution_count": null,
   "metadata": {},
   "outputs": [],
   "source": []
  },
  {
   "cell_type": "code",
   "execution_count": null,
   "metadata": {},
   "outputs": [],
   "source": []
  },
  {
   "cell_type": "code",
   "execution_count": null,
   "metadata": {},
   "outputs": [],
   "source": []
  },
  {
   "cell_type": "code",
   "execution_count": null,
   "metadata": {},
   "outputs": [],
   "source": [
    "# class DomainTree:\n",
    "#     \"\"\"\n",
    "#     Author:         Damien Beecroft\n",
    "#     Domain_Tree:    A super of the Domain class that stores important functions for working with\n",
    "#                     the domain decomposition tree.\n",
    "#     \"\"\"\n",
    "#     def __init__(self):\n",
    "#         pass\n",
    "    \n",
    "#     def find_interior_pts(self): # find which of the parent's points are in the current domain\n",
    "#         parent_pts = self.parent.pts # get the parent's points\n",
    "#         verts = self.vertices\n",
    "#         mask = [((verts[0] <= pt) & (pt <= verts[1])).all() for pt in parent_pts] # find which of the parent's points are in the current domain\n",
    "#         domain_pts = parent_pts[mask]\n",
    "#         return domain_pts\n",
    "    \n",
    "#     # def initiate_root(self):\n",
    "\n",
    "\n",
    "    \n",
    "# class Domain(DomainTree,NodeMixin):\n",
    "#     \"\"\"\n",
    "#     Author:     Damien Beecroft\n",
    "#     Domain:     A class that defines properties of the relevant domains used for tracking where each\n",
    "#                 neural network has support. The local properties of the nodes are defined here. The \"global\"\n",
    "#                 variables are stored in the support class: DomainTree.\n",
    "#     =================================================================================================\n",
    "#     vertices:   Two opposite points on the hyperrectangle used to define the domain. \n",
    "#     parent:     The node corresponding to the domain that the current node's domain is the immediate subset of\n",
    "#     children:   The nodes whose domains are the immediate subsets of the current domain.\n",
    "#     pts:        List of collocation points for the neural network to be evaluated at. This value is only passed \n",
    "#                 in for the root node. All other nodes determine the points determine their interior points through\n",
    "#                 the find_interior points function in the Domain_Tree class.\n",
    "#     root:       Boolean value that determines whether the current node is the root.\n",
    "#     net_sizes:  [base net shape, nonlinear net shape, linear net shape]. The base net is the \n",
    "#     \"\"\"\n",
    "#     def __init__(self,vertices,parent=None,children=None,pts=None,root=False,net_sizes=None):\n",
    "#         super(Domain,self).__init__()\n",
    "#         self.vertices = vertices # two opposite vertices that define the n-dimensional box\n",
    "#         self.parent = parent # parent domain of the current domain\n",
    "\n",
    "#         if parent: # set level\n",
    "#             self.lvl = parent.lvl + 1\n",
    "#         else:\n",
    "#             self.lvl = 0\n",
    "\n",
    "#         if children: # set children\n",
    "#             self.children = children\n",
    "\n",
    "#         if root: # determine points on the interior of the domain\n",
    "#             self.pts = pts # if this is the root node, just assign points\n",
    "#         else:\n",
    "#             self.pts = self.find_interior_pts() # otherwise, find which points are in the domain of the current domain"
   ]
  },
  {
   "cell_type": "code",
   "execution_count": 16,
   "metadata": {},
   "outputs": [],
   "source": [
    "# def find_interior_pts(self): # find which of the parent's points are in the current domain\n",
    "#     parent_pts = self.parent.pts # get the parent's points\n",
    "#     verts = self.vertices\n",
    "#     mask = [((verts[0] <= pt) & (pt <= verts[1])).all() for pt in parent_pts] # find which of the parent's points are in the current domain\n",
    "#     domain_pts = parent_pts[mask]\n",
    "#     return domain_pts\n",
    "\n",
    "# class Domain:\n",
    "#     \"\"\"\n",
    "#     Author:     Damien Beecroft\n",
    "#     Date:       06/29/2023\n",
    "#     Domain:     A class that defines properties of the relevant domains used for tracking where each\n",
    "#                 neural network has support. The local properties of the nodes are defined here. The \"global\"\n",
    "#                 variables are stored in the support class: DomainTree.\n",
    "#     =================================================================================================\n",
    "#     DomainTree: This class is the super of Domain. It contains the relevant definitions of the variables passed\n",
    "#                 into Domain.\n",
    "#     \"\"\"\n",
    "#     def __init__(self,vertices,parent=None,children=None,pts=None):\n",
    "#         self.vertices = vertices # two opposite vertices that define the n-dimensional box\n",
    "#         self.parent = parent # parent domain of the current domain\n",
    "\n",
    "#         if parent: # if parent is not None, this is not a root node\n",
    "#             self.lvl = parent.lvl + 1 # level on the tree\n",
    "#             self.pts = find_interior_pts(self) # find which points are in the domain of the current domain\n",
    "#         else: # otherwise, initialize this node as the root\n",
    "#             self.lvl = 0 # level on the tree\n",
    "#             self.pts = pts # if this is the root node, just assign points\n",
    "\n",
    "#         self.children = children\n",
    "\n",
    "# class DomainTree(NodeMixin):\n",
    "#     \"\"\"\n",
    "#     Author:         Damien Beecroft\n",
    "#     Date:           06/29/2023\n",
    "#     Domain_Tree:    A super of the Domain class that tracks relationships between domains and holds critical\n",
    "#                     functionalities for analyzing and managing the domain relations.\n",
    "#     =================================================================================================\n",
    "#     vertices:       Two opposite points on the hyperrectangle used to define the domain. By convention, the \n",
    "#                     first element is the vertex of the domain with the smallest 1-norm. The second element is the\n",
    "#                     vertex of the domain with the largest 1-norm.\n",
    "#     parent:         The node corresponding to the domain that the current node's domain is the immediate subset of\n",
    "#     children:       The nodes whose domains are the immediate subsets of the current domain.\n",
    "#     pts:            List of collocation points for the neural network to be evaluated at. This value is only passed \n",
    "#                     in for the root node. All other nodes determine the points determine their interior points through\n",
    "#                     the find_interior points function in the Domain_Tree class.\n",
    "#     net_sizes:                          \n",
    "#     \"\"\"\n",
    "#     def __init__(self,vertices,base_net_size,children=None,pts=None):\n",
    "#         super(DomainTree,self).__init__()\n",
    "#         # super().__init__()\n",
    "#         self._root = Domain(vertices,children=children,pts=pts)\n",
    "#         self.dnn = base_net_size\n",
    "\n",
    "#     @property\n",
    "#     def root(self):\n",
    "#         return self._root\n",
    "    \n",
    "#     @root.setter\n",
    "#     def root(self,root):\n",
    "#         self._root = root\n",
    "        "
   ]
  },
  {
   "cell_type": "code",
   "execution_count": 18,
   "metadata": {},
   "outputs": [],
   "source": [
    "# DTree = DomainTree(dom0,[3,80,2],pts=np.array([[0.2],[0.6],[0.9],[0.4],[0.8]]))"
   ]
  },
  {
   "cell_type": "code",
   "execution_count": 33,
   "metadata": {},
   "outputs": [],
   "source": [
    "# DD = Domain(dom10,parent=DTree.root)"
   ]
  },
  {
   "cell_type": "code",
   "execution_count": 35,
   "metadata": {},
   "outputs": [
    {
     "name": "stdout",
     "output_type": "stream",
     "text": [
      "None\n"
     ]
    }
   ],
   "source": [
    "# print(DTree.root.children)"
   ]
  },
  {
   "cell_type": "code",
   "execution_count": 34,
   "metadata": {},
   "outputs": [
    {
     "data": {
      "text/plain": [
       "<__main__.Domain at 0x1994fab3690>"
      ]
     },
     "execution_count": 34,
     "metadata": {},
     "output_type": "execute_result"
    }
   ],
   "source": [
    "# DD.parent"
   ]
  },
  {
   "cell_type": "code",
   "execution_count": null,
   "metadata": {},
   "outputs": [],
   "source": []
  },
  {
   "cell_type": "code",
   "execution_count": 5,
   "metadata": {},
   "outputs": [
    {
     "name": "stdout",
     "output_type": "stream",
     "text": [
      "(<__main__.Domain object at 0x000001D67C36CAD0>, <__main__.Domain object at 0x000001D67C36DD90>)\n",
      "[[0. ]\n",
      " [0.6]]\n",
      "[[0.2]\n",
      " [0.6]\n",
      " [0.4]]\n"
     ]
    }
   ],
   "source": [
    "# print(D10.children)\n",
    "# print(D10.vertices)\n",
    "# print(D10.pts)"
   ]
  }
 ],
 "metadata": {
  "kernelspec": {
   "display_name": "Python 3",
   "language": "python",
   "name": "python3"
  },
  "language_info": {
   "codemirror_mode": {
    "name": "ipython",
    "version": 3
   },
   "file_extension": ".py",
   "mimetype": "text/x-python",
   "name": "python",
   "nbconvert_exporter": "python",
   "pygments_lexer": "ipython3",
   "version": "3.11.4"
  },
  "orig_nbformat": 4
 },
 "nbformat": 4,
 "nbformat_minor": 2
}
