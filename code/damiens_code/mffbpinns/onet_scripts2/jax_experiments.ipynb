{
 "cells": [
  {
   "cell_type": "code",
   "execution_count": 7,
   "metadata": {},
   "outputs": [],
   "source": [
    "from utils_fs_v2 import DataGenerator_res2\n",
    "import jax.numpy as jnp\n",
    "import jax.random as random\n",
    "from jax import vmap\n",
    "from jax.tree_util import tree_flatten, tree_unflatten, register_pytree_node, \\\n",
    "    tree_flatten_with_path, tree_structure, tree_map"
   ]
  },
  {
   "cell_type": "code",
   "execution_count": 11,
   "metadata": {},
   "outputs": [],
   "source": [
    "# domain_bounds = jnp.array([0.,1.])\n",
    "# single_domains = jnp.array([[0.,0.4],[0.6,1.]])\n",
    "# double_domains = jnp.array([[0.4,0.6]])\n",
    "\n",
    "domain_bounds = jnp.array([0.,2.])\n",
    "single_domains = jnp.array([[0.,0.4],[0.6,1.],[1.333,2.0]])\n",
    "double_domains = jnp.array([[0.4,0.6],[1.,1.333]])\n",
    "D = DataGenerator_res2(domain_bounds,single_domains,double_domains,10)"
   ]
  },
  {
   "cell_type": "code",
   "execution_count": 12,
   "metadata": {},
   "outputs": [],
   "source": [
    "# D.single_domain_point_dict"
   ]
  },
  {
   "cell_type": "code",
   "execution_count": 13,
   "metadata": {},
   "outputs": [],
   "source": [
    "def show_example(structured):\n",
    "  flat, tree = tree_flatten(structured)\n",
    "  unflattened = tree_unflatten(tree, flat)\n",
    "  print(f\"{structured=}\\n  {flat=}\\n  {tree=}\\n  {unflattened=}\")"
   ]
  },
  {
   "cell_type": "code",
   "execution_count": 14,
   "metadata": {},
   "outputs": [
    {
     "name": "stdout",
     "output_type": "stream",
     "text": [
      "structured=[{'res_pts': Array([[0.34768867]], dtype=float32), 'uni_pts': Array([[0.06492133]], dtype=float32)}, {'res_pts': Array([[0.84995735]], dtype=float32), 'uni_pts': Array([[0.63279486]], dtype=float32)}, {'res_pts': Array([[1.8789763]], dtype=float32), 'uni_pts': Array([[1.9840243],\n",
      "       [1.5907514]], dtype=float32)}]\n",
      "  flat=[Array([[0.34768867]], dtype=float32), Array([[0.06492133]], dtype=float32), Array([[0.84995735]], dtype=float32), Array([[0.63279486]], dtype=float32), Array([[1.8789763]], dtype=float32), Array([[1.9840243],\n",
      "       [1.5907514]], dtype=float32)]\n",
      "  tree=PyTreeDef([{'res_pts': *, 'uni_pts': *}, {'res_pts': *, 'uni_pts': *}, {'res_pts': *, 'uni_pts': *}])\n",
      "  unflattened=[{'res_pts': Array([[0.34768867]], dtype=float32), 'uni_pts': Array([[0.06492133]], dtype=float32)}, {'res_pts': Array([[0.84995735]], dtype=float32), 'uni_pts': Array([[0.63279486]], dtype=float32)}, {'res_pts': Array([[1.8789763]], dtype=float32), 'uni_pts': Array([[1.9840243],\n",
      "       [1.5907514]], dtype=float32)}]\n"
     ]
    }
   ],
   "source": [
    "show_example(D.single_domain_point_dict)"
   ]
  },
  {
   "cell_type": "code",
   "execution_count": 6,
   "metadata": {},
   "outputs": [
    {
     "data": {
      "text/plain": [
       "Array(10, dtype=int32)"
      ]
     },
     "execution_count": 6,
     "metadata": {},
     "output_type": "execute_result"
    }
   ],
   "source": [
    "def foo(xs):\n",
    "    return jnp.dot(xs,jnp.arange(3))"
   ]
  },
  {
   "cell_type": "code",
   "execution_count": 6,
   "metadata": {},
   "outputs": [
    {
     "ename": "AttributeError",
     "evalue": "'dict' object has no attribute 'append'",
     "output_type": "error",
     "traceback": [
      "\u001b[1;31m---------------------------------------------------------------------------\u001b[0m",
      "\u001b[1;31mAttributeError\u001b[0m                            Traceback (most recent call last)",
      "Cell \u001b[1;32mIn[6], line 1\u001b[0m\n\u001b[1;32m----> 1\u001b[0m \u001b[39mdict\u001b[39;49m\u001b[39m.\u001b[39;49mappend({\u001b[39m'\u001b[39m\u001b[39mH\u001b[39m\u001b[39m'\u001b[39m: \u001b[39m0\u001b[39m})\n",
      "\u001b[1;31mAttributeError\u001b[0m: 'dict' object has no attribute 'append'"
     ]
    }
   ],
   "source": [
    "dict.append({'H': 0})"
   ]
  },
  {
   "cell_type": "code",
   "execution_count": 3,
   "metadata": {},
   "outputs": [
    {
     "data": {
      "text/plain": [
       "Array([0., 2.], dtype=float32)"
      ]
     },
     "execution_count": 3,
     "metadata": {},
     "output_type": "execute_result"
    }
   ],
   "source": [
    "D.domain_bounds"
   ]
  },
  {
   "cell_type": "code",
   "execution_count": 4,
   "metadata": {},
   "outputs": [
    {
     "data": {
      "text/plain": [
       "Array([2000, 2000, 3335], dtype=int32)"
      ]
     },
     "execution_count": 4,
     "metadata": {},
     "output_type": "execute_result"
    }
   ],
   "source": [
    "D.single_local_points"
   ]
  },
  {
   "cell_type": "code",
   "execution_count": 5,
   "metadata": {},
   "outputs": [
    {
     "data": {
      "text/plain": [
       "Array([1000, 1665], dtype=int32)"
      ]
     },
     "execution_count": 5,
     "metadata": {},
     "output_type": "execute_result"
    }
   ],
   "source": [
    "D.double_local_points\n"
   ]
  },
  {
   "cell_type": "code",
   "execution_count": 6,
   "metadata": {},
   "outputs": [
    {
     "data": {
      "text/plain": [
       "Array(10000, dtype=int32)"
      ]
     },
     "execution_count": 6,
     "metadata": {},
     "output_type": "execute_result"
    }
   ],
   "source": [
    "D.total_points"
   ]
  },
  {
   "cell_type": "code",
   "execution_count": 4,
   "metadata": {},
   "outputs": [],
   "source": [
    "# domains = jnp.array([[0.0,0.6],[0.4,1.]])\n",
    "# minval = jnp.array([0.0,0.4])\n",
    "# maxval = jnp.array([0.6,1.0])\n",
    "minval = 0.0\n",
    "maxval = 1.5\n",
    "key = random.PRNGKey(56)\n",
    "v = random.uniform(key,(100,1),minval = minval, maxval = maxval)\n",
    "vs = jnp.sort(v)"
   ]
  },
  {
   "cell_type": "code",
   "execution_count": 5,
   "metadata": {},
   "outputs": [
    {
     "data": {
      "text/plain": [
       "Array([[1.04353237e+00],\n",
       "       [7.84686327e-01],\n",
       "       [9.20103371e-01],\n",
       "       [5.47857285e-01],\n",
       "       [1.82814002e-01],\n",
       "       [9.59630013e-02],\n",
       "       [5.69343388e-01],\n",
       "       [1.13290715e+00],\n",
       "       [9.12416160e-01],\n",
       "       [1.20169997e+00],\n",
       "       [5.57086766e-01],\n",
       "       [1.18761063e-02],\n",
       "       [2.21120775e-01],\n",
       "       [1.22936606e+00],\n",
       "       [1.46070778e-01],\n",
       "       [1.45071959e+00],\n",
       "       [2.67673373e-01],\n",
       "       [2.33472884e-01],\n",
       "       [1.49199307e+00],\n",
       "       [6.38048708e-01],\n",
       "       [9.04464483e-01],\n",
       "       [9.79837775e-02],\n",
       "       [2.93756604e-01],\n",
       "       [1.27967310e+00],\n",
       "       [1.25155699e+00],\n",
       "       [1.48658800e+00],\n",
       "       [3.54681015e-01],\n",
       "       [1.20352411e+00],\n",
       "       [8.53353381e-01],\n",
       "       [1.33028960e+00],\n",
       "       [1.20087218e+00],\n",
       "       [1.39520526e+00],\n",
       "       [1.10161138e+00],\n",
       "       [8.72932971e-01],\n",
       "       [1.30292451e+00],\n",
       "       [7.13308811e-01],\n",
       "       [6.85262203e-01],\n",
       "       [7.91165650e-01],\n",
       "       [8.93435061e-01],\n",
       "       [9.56022084e-01],\n",
       "       [1.13894367e+00],\n",
       "       [1.60619080e-01],\n",
       "       [7.76761115e-01],\n",
       "       [8.53724420e-01],\n",
       "       [7.99387693e-01],\n",
       "       [1.20124626e+00],\n",
       "       [1.39458275e+00],\n",
       "       [1.33196759e+00],\n",
       "       [1.04767871e+00],\n",
       "       [1.93318248e-01],\n",
       "       [1.94610536e-01],\n",
       "       [1.43940496e+00],\n",
       "       [9.13987935e-01],\n",
       "       [9.90679085e-01],\n",
       "       [1.26492977e-03],\n",
       "       [2.01936007e-01],\n",
       "       [1.24976420e+00],\n",
       "       [1.20457220e+00],\n",
       "       [3.63326848e-01],\n",
       "       [6.60887718e-01],\n",
       "       [1.14881635e+00],\n",
       "       [4.41008806e-02],\n",
       "       [8.96745801e-01],\n",
       "       [1.42864990e+00],\n",
       "       [1.22481930e+00],\n",
       "       [4.96894419e-01],\n",
       "       [1.13398719e+00],\n",
       "       [9.02719438e-01],\n",
       "       [1.60537720e-01],\n",
       "       [6.00340426e-01],\n",
       "       [1.34517395e+00],\n",
       "       [8.99320364e-01],\n",
       "       [4.13006544e-01],\n",
       "       [1.59312665e-01],\n",
       "       [8.15801024e-02],\n",
       "       [3.87169719e-02],\n",
       "       [1.04871345e+00],\n",
       "       [2.18555868e-01],\n",
       "       [1.06069708e+00],\n",
       "       [1.04036701e+00],\n",
       "       [2.73444057e-02],\n",
       "       [8.59102428e-01],\n",
       "       [9.34793472e-01],\n",
       "       [1.29919243e+00],\n",
       "       [8.03198576e-01],\n",
       "       [2.21592665e-01],\n",
       "       [2.55373836e-01],\n",
       "       [1.35814881e+00],\n",
       "       [8.67373466e-01],\n",
       "       [8.07461143e-02],\n",
       "       [4.44831491e-01],\n",
       "       [1.05834937e+00],\n",
       "       [1.06781483e+00],\n",
       "       [1.41957843e+00],\n",
       "       [1.20521665e-01],\n",
       "       [8.16004694e-01],\n",
       "       [1.08338594e+00],\n",
       "       [5.58495998e-01],\n",
       "       [3.43886554e-01],\n",
       "       [4.47714329e-03]], dtype=float32)"
      ]
     },
     "execution_count": 5,
     "metadata": {},
     "output_type": "execute_result"
    }
   ],
   "source": [
    "vs"
   ]
  },
  {
   "cell_type": "code",
   "execution_count": 6,
   "metadata": {},
   "outputs": [
    {
     "data": {
      "text/plain": [
       "Array([1, 0, 0, 0, 0, 0, 0, 1, 0, 1, 0, 0, 0, 1, 0, 1, 0, 0, 1, 0, 0, 0,\n",
       "       0, 1, 1, 1, 0, 1, 0, 1, 1, 1, 1, 0, 1, 0, 0, 0, 0, 0, 1, 0, 0, 0,\n",
       "       0, 1, 1, 1, 1, 0, 0, 1, 0, 0, 0, 0, 1, 1, 0, 0, 1, 0, 0, 1, 1, 0,\n",
       "       1, 0, 0, 0, 1, 0, 0, 0, 0, 0, 1, 0, 1, 1, 0, 0, 0, 1, 0, 0, 0, 1,\n",
       "       0, 0, 0, 1, 1, 1, 0, 0, 1, 0, 0, 0], dtype=int32)"
      ]
     },
     "execution_count": 6,
     "metadata": {},
     "output_type": "execute_result"
    }
   ],
   "source": [
    "jnp.ravel(vs).astype(jnp.int32)"
   ]
  },
  {
   "cell_type": "code",
   "execution_count": null,
   "metadata": {},
   "outputs": [],
   "source": []
  },
  {
   "cell_type": "code",
   "execution_count": 16,
   "metadata": {},
   "outputs": [],
   "source": [
    "key = random.PRNGKey(42)\n",
    "keys = random.split(key,4)"
   ]
  },
  {
   "cell_type": "code",
   "execution_count": 17,
   "metadata": {},
   "outputs": [
    {
     "data": {
      "text/plain": [
       "Array([[2954079971, 2575172198],\n",
       "       [1139032965, 1035738655],\n",
       "       [3276725750, 1223413151],\n",
       "       [ 173471767,   13772463]], dtype=uint32)"
      ]
     },
     "execution_count": 17,
     "metadata": {},
     "output_type": "execute_result"
    }
   ],
   "source": [
    "keys"
   ]
  },
  {
   "cell_type": "code",
   "execution_count": 18,
   "metadata": {},
   "outputs": [
    {
     "data": {
      "text/plain": [
       "Array([ 0, 42], dtype=uint32)"
      ]
     },
     "execution_count": 18,
     "metadata": {},
     "output_type": "execute_result"
    }
   ],
   "source": [
    "key"
   ]
  },
  {
   "cell_type": "code",
   "execution_count": null,
   "metadata": {},
   "outputs": [],
   "source": []
  },
  {
   "cell_type": "code",
   "execution_count": null,
   "metadata": {},
   "outputs": [],
   "source": []
  },
  {
   "cell_type": "code",
   "execution_count": 3,
   "metadata": {},
   "outputs": [],
   "source": [
    "def foo(x):\n",
    "    return x + 1"
   ]
  },
  {
   "cell_type": "code",
   "execution_count": 4,
   "metadata": {},
   "outputs": [
    {
     "data": {
      "text/plain": [
       "Array([ 1,  2,  3,  4,  5,  6,  7,  8,  9, 10], dtype=int32)"
      ]
     },
     "execution_count": 4,
     "metadata": {},
     "output_type": "execute_result"
    }
   ],
   "source": [
    "v = jnp.arange(10)\n",
    "vmap(foo)(v)"
   ]
  },
  {
   "cell_type": "code",
   "execution_count": 5,
   "metadata": {},
   "outputs": [
    {
     "name": "stdout",
     "output_type": "stream",
     "text": [
      "[[12. 12. 12. 12. 12.]\n",
      " [12. 12. 12. 12. 12.]]\n"
     ]
    }
   ],
   "source": [
    "A, B, C, D = 2, 3, 4, 5\n",
    "x = jnp.ones((A, B))\n",
    "y = jnp.ones((B, C))\n",
    "z = jnp.ones((C, D))\n",
    "def foo(tree_arg):\n",
    "    x, (y, z) = tree_arg\n",
    "    return jnp.dot(x, jnp.dot(y, z))\n",
    "tree = (x, (y, z))\n",
    "print(foo(tree))\n"
   ]
  },
  {
   "cell_type": "code",
   "execution_count": 6,
   "metadata": {},
   "outputs": [
    {
     "name": "stdout",
     "output_type": "stream",
     "text": [
      "(6, 2, 5)\n"
     ]
    }
   ],
   "source": [
    "from jax import vmap\n",
    "K = 6  # batch size\n",
    "x = jnp.ones((K, A, B))  # batch axis in different locations\n",
    "y = jnp.ones((B, K, C))\n",
    "z = jnp.ones((C, D, K))\n",
    "tree = (x, (y, z))\n",
    "vfoo = vmap(foo, in_axes=((0, (1, 2)),))\n",
    "print(vfoo(tree).shape)\n",
    "# (6, 2, 5)"
   ]
  },
  {
   "cell_type": "code",
   "execution_count": 10,
   "metadata": {},
   "outputs": [
    {
     "name": "stdout",
     "output_type": "stream",
     "text": [
      "[[ 2  4]\n",
      " [ 4  6]\n",
      " [ 6  8]\n",
      " [ 8 20]\n",
      " [20 20]]\n"
     ]
    }
   ],
   "source": [
    "import jax\n",
    "import jax.numpy as jnp\n",
    "\n",
    "def process_slice(v,idx):\n",
    "    # Your processing logic here, e.g., multiply by 2\n",
    "    return v[idx] * 2\n",
    "\n",
    "# Original input vector\n",
    "input_vector = jnp.array([1, 2, 3, 4, 10])\n",
    "# input_vector2 = jnp.array([-6,-7,-8])\n",
    "\n",
    "# Indices for slicing the input vector\n",
    "slice_indices = jnp.array([[0,1],[1,2],[2,3],[3,4],[4,5]])\n",
    "\n",
    "# Slice the input vector based on the indices\n",
    "sliced_inputs = input_vector[slice_indices]\n",
    "\n",
    "# Process the sliced inputs (multiply by 2 in this example)\n",
    "# processed_sliced_inputs = jax.vmap(process_slice,(None,0,0))(input_vector,slice_indices,input_vector2)\n",
    "processed_sliced_inputs = jax.vmap(process_slice,(None,0))(input_vector,slice_indices)\n",
    "print(processed_sliced_inputs)\n",
    "\n",
    "# # Combine the processed slices back into the original shape\n",
    "# output_vector = jnp.zeros_like(input_vector)\n",
    "# output_vector = jax.ops.index_update(output_vector, slice_indices, processed_sliced_inputs)\n",
    "\n",
    "# print(output_vector)  # Output: [2 2 6 4 10]\n"
   ]
  },
  {
   "cell_type": "code",
   "execution_count": 26,
   "metadata": {},
   "outputs": [],
   "source": [
    "def func(a,b):\n",
    "    return a * b\n",
    "\n",
    "def wrapper(a,b):\n",
    "    return vmap(func,(None,0))(a,b)"
   ]
  },
  {
   "cell_type": "code",
   "execution_count": 27,
   "metadata": {},
   "outputs": [],
   "source": [
    "M = jnp.arange(9).reshape((3,3))\n",
    "v = jnp.arange(3)"
   ]
  },
  {
   "cell_type": "code",
   "execution_count": 28,
   "metadata": {},
   "outputs": [
    {
     "data": {
      "text/plain": [
       "Array([[ 0,  0,  0],\n",
       "       [ 3,  4,  5],\n",
       "       [12, 14, 16]], dtype=int32)"
      ]
     },
     "execution_count": 28,
     "metadata": {},
     "output_type": "execute_result"
    }
   ],
   "source": [
    "vmap(wrapper,(0,0))(v,M)"
   ]
  },
  {
   "cell_type": "code",
   "execution_count": null,
   "metadata": {},
   "outputs": [],
   "source": []
  }
 ],
 "metadata": {
  "kernelspec": {
   "display_name": "Python 3",
   "language": "python",
   "name": "python3"
  },
  "language_info": {
   "codemirror_mode": {
    "name": "ipython",
    "version": 3
   },
   "file_extension": ".py",
   "mimetype": "text/x-python",
   "name": "python",
   "nbconvert_exporter": "python",
   "pygments_lexer": "ipython3",
   "version": "3.11.4"
  },
  "orig_nbformat": 4
 },
 "nbformat": 4,
 "nbformat_minor": 2
}
