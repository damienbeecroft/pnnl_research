{
 "cells": [
  {
   "cell_type": "code",
   "execution_count": 29,
   "metadata": {},
   "outputs": [],
   "source": [
    "# from utils_fs_v2 import DataGenerator_res2\n",
    "from jax import grad, jit, nn\n",
    "import jax.numpy as jnp\n",
    "import numpy as np\n",
    "# import jax.random as random\n",
    "# from jax import vmap\n",
    "# from jax.tree_util import tree_flatten, tree_unflatten, register_pytree_node, \\\n",
    "#     tree_flatten_with_path, tree_structure, tree_map\n",
    "import jax.tree_util as tu\n",
    "import matplotlib.pyplot as plt\n"
   ]
  },
  {
   "cell_type": "markdown",
   "metadata": {},
   "source": [
    "# Trying to Train Neural Networks with Overlap"
   ]
  },
  {
   "cell_type": "code",
   "execution_count": 38,
   "metadata": {},
   "outputs": [],
   "source": [
    "def init_mlp_params(layer_widths):\n",
    "  params = []\n",
    "  for n_in, n_out in zip(layer_widths[:-1], layer_widths[1:]):\n",
    "    params.append(\n",
    "        dict(weights=np.random.normal(size=(n_in, n_out)) * np.sqrt(2/n_in),\n",
    "             biases=np.ones(shape=(n_out,))\n",
    "            )\n",
    "    )\n",
    "  return params"
   ]
  },
  {
   "cell_type": "code",
   "execution_count": 39,
   "metadata": {},
   "outputs": [],
   "source": [
    "# tree_map(lambda x: x.shape, params)"
   ]
  },
  {
   "cell_type": "code",
   "execution_count": 40,
   "metadata": {},
   "outputs": [],
   "source": [
    "def forward(params, x):\n",
    "  *hidden, last = params\n",
    "  for layer in hidden:\n",
    "    x = nn.relu(x @ layer['weights'] + layer['biases'])\n",
    "  return x @ last['weights'] + last['biases']\n",
    "\n",
    "def loss_fn(nn, x, y):\n",
    "  return jnp.mean((forward(nn.params, x) - y) ** 2)\n",
    "\n",
    "LEARNING_RATE = 0.0001\n",
    "\n",
    "@jit\n",
    "def update(nn, x, y):\n",
    "  grad_loss_fn = grad(loss_fn)\n",
    "  grads = tu.tree_map(grad_loss_fn,nn, x, y)\n",
    "  # Note that `grads` is a pytree with the same structure as `params`.\n",
    "  # `jax.grad` is one of the many JAX functions that has\n",
    "  # built-in support for pytrees.\n",
    "\n",
    "  # This is handy, because we can apply the SGD update using tree utils:\n",
    "  return tu.tree_map(\n",
    "      lambda p, g: p - LEARNING_RATE * g, nn, grads\n",
    "  )"
   ]
  },
  {
   "cell_type": "code",
   "execution_count": 41,
   "metadata": {},
   "outputs": [],
   "source": [
    "class ParameterContainer:\n",
    "    def __init__(self):\n",
    "        self.params = init_mlp_params([1, 128, 128, 1])"
   ]
  },
  {
   "cell_type": "code",
   "execution_count": null,
   "metadata": {},
   "outputs": [],
   "source": []
  },
  {
   "cell_type": "code",
   "execution_count": 42,
   "metadata": {},
   "outputs": [],
   "source": [
    "# params1 = init_mlp_params([1, 128, 128, 1])\n",
    "# params2 = init_mlp_params([1, 128, 128, 1])\n",
    "nn1 = ParameterContainer()\n",
    "nn2 = ParameterContainer()\n",
    "nn = [nn1, nn2]\n",
    "xs1 = 0.5*np.random.uniform(size=(70, 1))\n",
    "ys1 = xs1 ** 2\n",
    "xs2 = 0.5*np.random.uniform(size=(60, 1)) + 0.5\n",
    "ys2 = xs2 ** 2\n",
    "xs = [xs1,xs2]\n",
    "ys = [ys1,ys2]\n",
    "\n",
    "# print(tu.tree_structure(nn))\n",
    "# print(tu.tree_structure(xs))\n",
    "# print(tu.tree_structure(ys))\n",
    "\n",
    "# tu.treedef_is_leaf(params)\n",
    "# type(params)"
   ]
  },
  {
   "cell_type": "code",
   "execution_count": 43,
   "metadata": {},
   "outputs": [
    {
     "ename": "TypeError",
     "evalue": "Cannot interpret value of type <class '__main__.ParameterContainer'> as an abstract array; it does not have a dtype attribute",
     "output_type": "error",
     "traceback": [
      "\u001b[1;31m---------------------------------------------------------------------------\u001b[0m",
      "\u001b[1;31mKeyError\u001b[0m                                  Traceback (most recent call last)",
      "File \u001b[1;32m~\\AppData\\Local\\Packages\\PythonSoftwareFoundation.Python.3.11_qbz5n2kfra8p0\\LocalCache\\local-packages\\Python311\\site-packages\\jax\\_src\\api_util.py:563\u001b[0m, in \u001b[0;36mshaped_abstractify\u001b[1;34m(x)\u001b[0m\n\u001b[0;32m    562\u001b[0m \u001b[39mtry\u001b[39;00m:\n\u001b[1;32m--> 563\u001b[0m   \u001b[39mreturn\u001b[39;00m _shaped_abstractify_handlers[\u001b[39mtype\u001b[39;49m(x)](x)\n\u001b[0;32m    564\u001b[0m \u001b[39mexcept\u001b[39;00m \u001b[39mKeyError\u001b[39;00m:\n",
      "\u001b[1;31mKeyError\u001b[0m: <class '__main__.ParameterContainer'>",
      "\nDuring handling of the above exception, another exception occurred:\n",
      "\u001b[1;31mTypeError\u001b[0m                                 Traceback (most recent call last)",
      "Cell \u001b[1;32mIn[43], line 2\u001b[0m\n\u001b[0;32m      1\u001b[0m \u001b[39mfor\u001b[39;00m _ \u001b[39min\u001b[39;00m \u001b[39mrange\u001b[39m(\u001b[39m10000\u001b[39m):\n\u001b[1;32m----> 2\u001b[0m   params1 \u001b[39m=\u001b[39m update(nn, xs, ys)\n\u001b[0;32m      4\u001b[0m \u001b[39m# plt.scatter(xs, ys)\u001b[39;00m\n\u001b[0;32m      5\u001b[0m \u001b[39m# plt.scatter(xs, forward(params1, xs), label='Model prediction')\u001b[39;00m\n\u001b[0;32m      6\u001b[0m plt\u001b[39m.\u001b[39mlegend()\n",
      "    \u001b[1;31m[... skipping hidden 6 frame]\u001b[0m\n",
      "File \u001b[1;32m~\\AppData\\Local\\Packages\\PythonSoftwareFoundation.Python.3.11_qbz5n2kfra8p0\\LocalCache\\local-packages\\Python311\\site-packages\\jax\\_src\\api_util.py:554\u001b[0m, in \u001b[0;36m_shaped_abstractify_slow\u001b[1;34m(x)\u001b[0m\n\u001b[0;32m    552\u001b[0m   dtype \u001b[39m=\u001b[39m dtypes\u001b[39m.\u001b[39mcanonicalize_dtype(x\u001b[39m.\u001b[39mdtype, allow_opaque_dtype\u001b[39m=\u001b[39m\u001b[39mTrue\u001b[39;00m)\n\u001b[0;32m    553\u001b[0m \u001b[39melse\u001b[39;00m:\n\u001b[1;32m--> 554\u001b[0m   \u001b[39mraise\u001b[39;00m \u001b[39mTypeError\u001b[39;00m(\n\u001b[0;32m    555\u001b[0m       \u001b[39mf\u001b[39m\u001b[39m\"\u001b[39m\u001b[39mCannot interpret value of type \u001b[39m\u001b[39m{\u001b[39;00m\u001b[39mtype\u001b[39m(x)\u001b[39m}\u001b[39;00m\u001b[39m as an abstract array; it \u001b[39m\u001b[39m\"\u001b[39m\n\u001b[0;32m    556\u001b[0m       \u001b[39m\"\u001b[39m\u001b[39mdoes not have a dtype attribute\u001b[39m\u001b[39m\"\u001b[39m)\n\u001b[0;32m    557\u001b[0m \u001b[39mreturn\u001b[39;00m core\u001b[39m.\u001b[39mShapedArray(np\u001b[39m.\u001b[39mshape(x), dtype, weak_type\u001b[39m=\u001b[39mweak_type,\n\u001b[0;32m    558\u001b[0m                         named_shape\u001b[39m=\u001b[39mnamed_shape)\n",
      "\u001b[1;31mTypeError\u001b[0m: Cannot interpret value of type <class '__main__.ParameterContainer'> as an abstract array; it does not have a dtype attribute"
     ]
    }
   ],
   "source": [
    "for _ in range(10000):\n",
    "  params1 = update(nn, xs, ys)\n",
    "\n",
    "# plt.scatter(xs, ys)\n",
    "# plt.scatter(xs, forward(params1, xs), label='Model prediction')\n",
    "plt.legend()"
   ]
  },
  {
   "cell_type": "code",
   "execution_count": null,
   "metadata": {},
   "outputs": [],
   "source": []
  },
  {
   "cell_type": "code",
   "execution_count": null,
   "metadata": {},
   "outputs": [],
   "source": []
  },
  {
   "cell_type": "code",
   "execution_count": null,
   "metadata": {},
   "outputs": [],
   "source": []
  },
  {
   "cell_type": "code",
   "execution_count": 1,
   "metadata": {},
   "outputs": [],
   "source": [
    "temp1 = [-1,3]\n",
    "temp2 = [2,3,4]\n",
    "temp3 = [0,6]\n",
    "temp = [temp1,temp2,temp3]"
   ]
  },
  {
   "cell_type": "code",
   "execution_count": 2,
   "metadata": {},
   "outputs": [
    {
     "data": {
      "text/plain": [
       "3"
      ]
     },
     "execution_count": 2,
     "metadata": {},
     "output_type": "execute_result"
    }
   ],
   "source": []
  },
  {
   "cell_type": "code",
   "execution_count": 11,
   "metadata": {},
   "outputs": [],
   "source": [
    "# domain_bounds = jnp.array([0.,1.])\n",
    "# single_domains = jnp.array([[0.,0.4],[0.6,1.]])\n",
    "# double_domains = jnp.array([[0.4,0.6]])\n",
    "\n",
    "domain_bounds = jnp.array([0.,2.])\n",
    "single_domains = jnp.array([[0.,0.4],[0.6,1.],[1.333,2.0]])\n",
    "double_domains = jnp.array([[0.4,0.6],[1.,1.333]])\n",
    "D = DataGenerator_res2(domain_bounds,single_domains,double_domains,10)"
   ]
  },
  {
   "cell_type": "code",
   "execution_count": 12,
   "metadata": {},
   "outputs": [],
   "source": [
    "# D.single_domain_point_dict"
   ]
  },
  {
   "cell_type": "code",
   "execution_count": 13,
   "metadata": {},
   "outputs": [],
   "source": [
    "def show_example(structured):\n",
    "  flat, tree = tree_flatten(structured)\n",
    "  unflattened = tree_unflatten(tree, flat)\n",
    "  print(f\"{structured=}\\n  {flat=}\\n  {tree=}\\n  {unflattened=}\")"
   ]
  },
  {
   "cell_type": "code",
   "execution_count": 14,
   "metadata": {},
   "outputs": [
    {
     "name": "stdout",
     "output_type": "stream",
     "text": [
      "structured=[{'res_pts': Array([[0.34768867]], dtype=float32), 'uni_pts': Array([[0.06492133]], dtype=float32)}, {'res_pts': Array([[0.84995735]], dtype=float32), 'uni_pts': Array([[0.63279486]], dtype=float32)}, {'res_pts': Array([[1.8789763]], dtype=float32), 'uni_pts': Array([[1.9840243],\n",
      "       [1.5907514]], dtype=float32)}]\n",
      "  flat=[Array([[0.34768867]], dtype=float32), Array([[0.06492133]], dtype=float32), Array([[0.84995735]], dtype=float32), Array([[0.63279486]], dtype=float32), Array([[1.8789763]], dtype=float32), Array([[1.9840243],\n",
      "       [1.5907514]], dtype=float32)]\n",
      "  tree=PyTreeDef([{'res_pts': *, 'uni_pts': *}, {'res_pts': *, 'uni_pts': *}, {'res_pts': *, 'uni_pts': *}])\n",
      "  unflattened=[{'res_pts': Array([[0.34768867]], dtype=float32), 'uni_pts': Array([[0.06492133]], dtype=float32)}, {'res_pts': Array([[0.84995735]], dtype=float32), 'uni_pts': Array([[0.63279486]], dtype=float32)}, {'res_pts': Array([[1.8789763]], dtype=float32), 'uni_pts': Array([[1.9840243],\n",
      "       [1.5907514]], dtype=float32)}]\n"
     ]
    }
   ],
   "source": [
    "show_example(D.single_domain_point_dict)"
   ]
  }
 ],
 "metadata": {
  "kernelspec": {
   "display_name": "Python 3",
   "language": "python",
   "name": "python3"
  },
  "language_info": {
   "codemirror_mode": {
    "name": "ipython",
    "version": 3
   },
   "file_extension": ".py",
   "mimetype": "text/x-python",
   "name": "python",
   "nbconvert_exporter": "python",
   "pygments_lexer": "ipython3",
   "version": "3.11.4"
  },
  "orig_nbformat": 4
 },
 "nbformat": 4,
 "nbformat_minor": 2
}
