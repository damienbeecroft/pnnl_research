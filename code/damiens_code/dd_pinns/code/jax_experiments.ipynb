{
 "cells": [
  {
   "cell_type": "code",
   "execution_count": 1,
   "metadata": {},
   "outputs": [
    {
     "name": "stderr",
     "output_type": "stream",
     "text": [
      "No GPU/TPU found, falling back to CPU. (Set TF_CPP_MIN_LOG_LEVEL=0 and rerun for more info.)\n"
     ]
    }
   ],
   "source": [
    "from jax import jit, grad, vmap, random\n",
    "from functools import partial\n",
    "import jax.numpy as jnp\n",
    "from utils_fs_v2 import nonlinear_DNN, linear_DNN, DNN\n",
    "from anytree import NodeMixin\n",
    "from jax.tree_util import tree_flatten, tree_unflatten, register_pytree_node, tree_structure"
   ]
  },
  {
   "cell_type": "markdown",
   "metadata": {},
   "source": [
    "#### Defining useful parameters"
   ]
  },
  {
   "cell_type": "code",
   "execution_count": 2,
   "metadata": {},
   "outputs": [],
   "source": [
    "# N_sf = 200 # single fidelity hidden width\n",
    "# N_nl = 80 # multifidelity nonlinear network hidden width\n",
    "N_sf = 4 # single fidelity hidden width\n",
    "N_nl = 4 # multifidelity nonlinear network hidden width\n",
    "sfnet_shape = [1, N_sf, N_sf, 2] # shape of the single fidelity network\n",
    "nonlin_mfnet_shape = [3, N_nl, N_nl, 2] # shape of the multifidelity nonlinear network\n",
    "lin_mfnet_shape = [2,  4, 2] # shape of the multifidelity linear network\n",
    "init_nl, apply_nl, weight_nl = nonlinear_DNN(nonlin_mfnet_shape)\n",
    "init_l, apply_l = linear_DNN(lin_mfnet_shape)\n",
    "init_sf, apply_sf = DNN(sfnet_shape)"
   ]
  },
  {
   "cell_type": "markdown",
   "metadata": {},
   "source": [
    "#### Defining the function for applying the multifidelity network"
   ]
  },
  {
   "cell_type": "code",
   "execution_count": 3,
   "metadata": {},
   "outputs": [],
   "source": [
    "def apply_mf(self,params,pts,u_lf):\n",
    "    # params = self.unravel_params # NOTE: This is probably wrong. I am not certain what format the two functions below are expecting\n",
    "    u_nl = apply_nl(params[1], jnp.hstack([pts, u_lf]))\n",
    "    u_l = apply_l(params[0], u_lf)\n",
    "    u_local = u_l + u_nl\n",
    "    # w = weight(pts)\n",
    "    # u_local = w*(u_l + u_nl)\n",
    "    return u_local"
   ]
  },
  {
   "cell_type": "markdown",
   "metadata": {},
   "source": [
    "#### Defining the classes `SFDomain` and `MFDomain`"
   ]
  },
  {
   "cell_type": "code",
   "execution_count": 16,
   "metadata": {},
   "outputs": [],
   "source": [
    "class RootUtilities:\n",
    "    def __init__(self):\n",
    "        self.levels = [] # list of what classes are on which levels of the domain tree\n",
    "\n",
    "class SFDomain(NodeMixin,RootUtilities):\n",
    "    def __init__(self,vertices,params_prev=[]):\n",
    "        super(SFDomain,self).__init__()\n",
    "        if len(params_prev) > 0:\n",
    "            params = params_prev\n",
    "        else:\n",
    "            params_sf = init_sf(random.PRNGKey(1))\n",
    "            params = (params_sf)\n",
    "        self.params = params\n",
    "        self.vertices = vertices\n",
    "        self.tree_level_organizer(self) # add root to the level organizer\n",
    "\n",
    "\n",
    "    def register_children(self):\n",
    "        registration = []\n",
    "        for child in self.children:\n",
    "            registration.append(child.__repr__())\n",
    "        return registration\n",
    "    \n",
    "    def tree_level_organizer(self,new_node): # TESTED\n",
    "        \"\"\"\n",
    "        \"tree_level_organizer\" recognizes which level \"new_node\" is on and places \"new_node\"\n",
    "        in the appropriate level in \"self.levels\".\n",
    "        =================================================================================================\n",
    "        INPUT:\n",
    "        new_node:   A class that is being added to the tree\n",
    "        \"\"\"\n",
    "        depth = new_node.depth # find the depth of the new node\n",
    "        if depth >= len(self.levels): # if \"new_node\" is the first on a new level, add that level to \"self.levels\"\n",
    "            self.levels.append([new_node])\n",
    "        else: # if \"new_node\" is a member of an existing level, add it to that level of \"self.levels\"\n",
    "            self.levels[depth].append(new_node)\n",
    "\n",
    "\n",
    "    def __repr__(self):\n",
    "        return \"SFDomain(vertices={}, params={},children={})\".format(self.vertices, \"sf_params\", self.register_children())\n",
    "\n",
    "class MFDomain(NodeMixin):\n",
    "    def __init__(self,vertices,params_prev=[],parent=None):\n",
    "        if len(params_prev) > 0:\n",
    "            params = params_prev\n",
    "        else:\n",
    "            params_nl = init_nl(random.PRNGKey(13))\n",
    "            params_l = init_l(random.PRNGKey(12345))\n",
    "            params = (params_l, params_nl)\n",
    "        self.params = params\n",
    "        self.vertices = vertices\n",
    "        self.parent = parent\n",
    "        self.root.tree_level_organizer(self) # add current node to the level organizer \n",
    "\n",
    "    \n",
    "    def register_children(self):\n",
    "        registration = []\n",
    "        for child in self.children:\n",
    "            registration.append(child.__repr__())\n",
    "        return registration\n",
    "\n",
    "    def __repr__(self):\n",
    "        return \"MFDomain(vertices={}, params={},children={})\".format(self.vertices, \"mf_params\", self.register_children())"
   ]
  },
  {
   "cell_type": "markdown",
   "metadata": {},
   "source": [
    "#### Registering `SFDomain` so that it can be jitted. I believe that it works"
   ]
  },
  {
   "cell_type": "code",
   "execution_count": 17,
   "metadata": {},
   "outputs": [],
   "source": [
    "def return_leaves(v):\n",
    "  leaves = [v.vertices,v.params]\n",
    "  # leaves = (v.name,)\n",
    "  for child in v.children:\n",
    "    leaves.append(return_leaves(child))\n",
    "    # leaves = leaves + (return_leaves(child),)\n",
    "  return leaves\n",
    "\n",
    "def special_flatten(v):\n",
    "  leaves = [v.vertices,v.params]\n",
    "  # leaves = (v.name,)\n",
    "  for child in v.children:\n",
    "    leaves.append(return_leaves(child))\n",
    "    # leaves = leaves + (return_leaves(child),)\n",
    "  aux_data = None\n",
    "  return (leaves, aux_data)\n",
    "\n",
    "def grow_tree(parent,tree):\n",
    "  new_parent = MFDomain(tree[0],tree[1],parent=parent)\n",
    "  for branch in tree[2:]:\n",
    "    grow_tree(new_parent,branch)\n",
    "\n",
    "def special_unflatten(aux_data, tree):\n",
    "  root = SFDomain(tree[0],tree[1])\n",
    "  for branch in tree[2:]:\n",
    "    grow_tree(root,branch)\n",
    "  return root\n",
    "\n",
    "# Global registration\n",
    "register_pytree_node(\n",
    "    SFDomain,\n",
    "    special_flatten,    # tell JAX what are the children nodes\n",
    "    special_unflatten   # tell JAX how to pack back into a RegisteredSpecial\n",
    ")"
   ]
  },
  {
   "cell_type": "code",
   "execution_count": 18,
   "metadata": {},
   "outputs": [],
   "source": [
    "A = SFDomain([[0.0],[1.0]])\n",
    "B = MFDomain([[0.0],[0.6]],parent = A)\n",
    "C = MFDomain([[0.4],[1.0]],parent = A)\n",
    "# D = MFDomain([[0.0],[0.3]],parent = B)\n",
    "# E = MFDomain([[0.2],[0.5]],parent = B)\n",
    "# F = MFDomain([[0.4],[0.7]],parent = C)\n",
    "# G = MFDomain([[0.6],[1.0]],parent = C)"
   ]
  },
  {
   "cell_type": "code",
   "execution_count": 40,
   "metadata": {},
   "outputs": [],
   "source": [
    "def is_interior(vertices,pt):\n",
    "    return ((vertices[0] < pt) & (pt < vertices[1])).all()\n",
    "\n",
    "def get_vertices(domain):\n",
    "    return domain.vertices\n",
    "\n",
    "@jit\n",
    "def multifidelity_network(root,pt,max_level):\n",
    "    u_pred = apply_sf(root.params,pt) # get the single fidelity approximation\n",
    "    cache = jnp.empty(5)\n",
    "    cache.at[0].set(root)\n",
    "    # for idx in range(1,max_level+1):\n",
    "    #     level = root.levels[idx]\n",
    "    #     vertices = jnp.array([mfdomain.vertices for mfdomain in level])\n",
    "    #     is_in = vmap(is_interior,(0,None))(vertices,pt)\n",
    "    \n",
    "    # u = root.levels[1][0]\n",
    "    # print(u)\n",
    "    # print(root)\n",
    "    # print(root.depth)\n",
    "    # for bool in is_in:\n",
    "    #     if bool:\n",
    "    #         u_lf = \n",
    "    #         go_deeper\n",
    "\n",
    "\n",
    "    return u_pred"
   ]
  },
  {
   "cell_type": "code",
   "execution_count": 41,
   "metadata": {},
   "outputs": [
    {
     "ename": "TypeError",
     "evalue": "Unexpected input type for array: <class '__main__.SFDomain'>",
     "output_type": "error",
     "traceback": [
      "\u001b[1;31m---------------------------------------------------------------------------\u001b[0m",
      "\u001b[1;31mTypeError\u001b[0m                                 Traceback (most recent call last)",
      "Cell \u001b[1;32mIn[41], line 2\u001b[0m\n\u001b[0;32m      1\u001b[0m pts \u001b[39m=\u001b[39m jnp\u001b[39m.\u001b[39mlinspace(\u001b[39m0\u001b[39m,\u001b[39m1\u001b[39m,\u001b[39m21\u001b[39m)\n\u001b[1;32m----> 2\u001b[0m vmap(multifidelity_network,(\u001b[39mNone\u001b[39;49;00m,\u001b[39m0\u001b[39;49m,\u001b[39mNone\u001b[39;49;00m))(A,pts,\u001b[39m1\u001b[39;49m)\n",
      "    \u001b[1;31m[... skipping hidden 15 frame]\u001b[0m\n",
      "Cell \u001b[1;32mIn[40], line 11\u001b[0m, in \u001b[0;36mmultifidelity_network\u001b[1;34m(root, pt, max_level)\u001b[0m\n\u001b[0;32m      9\u001b[0m u_pred \u001b[39m=\u001b[39m apply_sf(root\u001b[39m.\u001b[39mparams,pt) \u001b[39m# get the single fidelity approximation\u001b[39;00m\n\u001b[0;32m     10\u001b[0m cache \u001b[39m=\u001b[39m jnp\u001b[39m.\u001b[39mempty(\u001b[39m5\u001b[39m)\n\u001b[1;32m---> 11\u001b[0m cache\u001b[39m.\u001b[39;49mat[\u001b[39m0\u001b[39;49m]\u001b[39m.\u001b[39;49mset(root)\n\u001b[0;32m     12\u001b[0m \u001b[39m# for idx in range(1,max_level+1):\u001b[39;00m\n\u001b[0;32m     13\u001b[0m \u001b[39m#     level = root.levels[idx]\u001b[39;00m\n\u001b[0;32m     14\u001b[0m \u001b[39m#     vertices = jnp.array([mfdomain.vertices for mfdomain in level])\u001b[39;00m\n\u001b[1;32m   (...)\u001b[0m\n\u001b[0;32m     23\u001b[0m \u001b[39m#         u_lf = \u001b[39;00m\n\u001b[0;32m     24\u001b[0m \u001b[39m#         go_deeper\u001b[39;00m\n\u001b[0;32m     27\u001b[0m \u001b[39mreturn\u001b[39;00m u_pred\n",
      "File \u001b[1;32m~\\AppData\\Local\\Packages\\PythonSoftwareFoundation.Python.3.11_qbz5n2kfra8p0\\LocalCache\\local-packages\\Python311\\site-packages\\jax\\_src\\numpy\\array_methods.py:485\u001b[0m, in \u001b[0;36mallow_pass_by_position_with_warning.<locals>.wrapped\u001b[1;34m(*args, **kwargs)\u001b[0m\n\u001b[0;32m    483\u001b[0m   \u001b[39mreturn\u001b[39;00m f(\u001b[39m*\u001b[39margs[:n_positional], \u001b[39m*\u001b[39m\u001b[39m*\u001b[39mconverted_kwargs, \u001b[39m*\u001b[39m\u001b[39m*\u001b[39mkwargs)\n\u001b[0;32m    484\u001b[0m \u001b[39melse\u001b[39;00m:\n\u001b[1;32m--> 485\u001b[0m   \u001b[39mreturn\u001b[39;00m f(\u001b[39m*\u001b[39;49margs, \u001b[39m*\u001b[39;49m\u001b[39m*\u001b[39;49mkwargs)\n",
      "File \u001b[1;32m~\\AppData\\Local\\Packages\\PythonSoftwareFoundation.Python.3.11_qbz5n2kfra8p0\\LocalCache\\local-packages\\Python311\\site-packages\\jax\\_src\\numpy\\array_methods.py:532\u001b[0m, in \u001b[0;36m_IndexUpdateRef.set\u001b[1;34m(self, values, indices_are_sorted, unique_indices, mode)\u001b[0m\n\u001b[0;32m    522\u001b[0m \u001b[39m@allow_pass_by_position_with_warning\u001b[39m\n\u001b[0;32m    523\u001b[0m \u001b[39mdef\u001b[39;00m \u001b[39mset\u001b[39m(\u001b[39mself\u001b[39m, values, \u001b[39m*\u001b[39m, indices_are_sorted\u001b[39m=\u001b[39m\u001b[39mFalse\u001b[39;00m, unique_indices\u001b[39m=\u001b[39m\u001b[39mFalse\u001b[39;00m,\n\u001b[0;32m    524\u001b[0m         mode\u001b[39m=\u001b[39m\u001b[39mNone\u001b[39;00m):\n\u001b[0;32m    525\u001b[0m \u001b[39m  \u001b[39m\u001b[39m\"\"\"Pure equivalent of ``x[idx] = y``.\u001b[39;00m\n\u001b[0;32m    526\u001b[0m \n\u001b[0;32m    527\u001b[0m \u001b[39m  Returns the value of ``x`` that would result from the NumPy-style\u001b[39;00m\n\u001b[1;32m   (...)\u001b[0m\n\u001b[0;32m    530\u001b[0m \u001b[39m  See :mod:`jax.ops` for details.\u001b[39;00m\n\u001b[0;32m    531\u001b[0m \u001b[39m  \"\"\"\u001b[39;00m\n\u001b[1;32m--> 532\u001b[0m   \u001b[39mreturn\u001b[39;00m scatter\u001b[39m.\u001b[39;49m_scatter_update(\u001b[39mself\u001b[39;49m\u001b[39m.\u001b[39;49marray, \u001b[39mself\u001b[39;49m\u001b[39m.\u001b[39;49mindex, values, lax\u001b[39m.\u001b[39;49mscatter,\n\u001b[0;32m    533\u001b[0m                                  indices_are_sorted\u001b[39m=\u001b[39;49mindices_are_sorted,\n\u001b[0;32m    534\u001b[0m                                  unique_indices\u001b[39m=\u001b[39;49munique_indices, mode\u001b[39m=\u001b[39;49mmode)\n",
      "File \u001b[1;32m~\\AppData\\Local\\Packages\\PythonSoftwareFoundation.Python.3.11_qbz5n2kfra8p0\\LocalCache\\local-packages\\Python311\\site-packages\\jax\\_src\\ops\\scatter.py:71\u001b[0m, in \u001b[0;36m_scatter_update\u001b[1;34m(x, idx, y, scatter_op, indices_are_sorted, unique_indices, mode, normalize_indices)\u001b[0m\n\u001b[0;32m     69\u001b[0m   y \u001b[39m=\u001b[39m jnp\u001b[39m.\u001b[39masarray(y, dtype\u001b[39m=\u001b[39mx\u001b[39m.\u001b[39mdtype)\n\u001b[0;32m     70\u001b[0m \u001b[39melse\u001b[39;00m:\n\u001b[1;32m---> 71\u001b[0m   y \u001b[39m=\u001b[39m jnp\u001b[39m.\u001b[39;49masarray(y)\n\u001b[0;32m     73\u001b[0m \u001b[39m# XLA gathers and scatters are very similar in structure; the scatter logic\u001b[39;00m\n\u001b[0;32m     74\u001b[0m \u001b[39m# is more or less a transpose of the gather equivalent.\u001b[39;00m\n\u001b[0;32m     75\u001b[0m treedef, static_idx, dynamic_idx \u001b[39m=\u001b[39m jnp\u001b[39m.\u001b[39m_split_index_for_jit(idx, x\u001b[39m.\u001b[39mshape)\n",
      "File \u001b[1;32m~\\AppData\\Local\\Packages\\PythonSoftwareFoundation.Python.3.11_qbz5n2kfra8p0\\LocalCache\\local-packages\\Python311\\site-packages\\jax\\_src\\numpy\\lax_numpy.py:2070\u001b[0m, in \u001b[0;36masarray\u001b[1;34m(a, dtype, order)\u001b[0m\n\u001b[0;32m   2068\u001b[0m \u001b[39mif\u001b[39;00m dtype \u001b[39mis\u001b[39;00m \u001b[39mnot\u001b[39;00m \u001b[39mNone\u001b[39;00m:\n\u001b[0;32m   2069\u001b[0m   dtype \u001b[39m=\u001b[39m dtypes\u001b[39m.\u001b[39mcanonicalize_dtype(dtype, allow_opaque_dtype\u001b[39m=\u001b[39m\u001b[39mTrue\u001b[39;00m)\n\u001b[1;32m-> 2070\u001b[0m \u001b[39mreturn\u001b[39;00m array(a, dtype\u001b[39m=\u001b[39;49mdtype, copy\u001b[39m=\u001b[39;49m\u001b[39mFalse\u001b[39;49;00m, order\u001b[39m=\u001b[39;49morder)\n",
      "File \u001b[1;32m~\\AppData\\Local\\Packages\\PythonSoftwareFoundation.Python.3.11_qbz5n2kfra8p0\\LocalCache\\local-packages\\Python311\\site-packages\\jax\\_src\\numpy\\lax_numpy.py:2048\u001b[0m, in \u001b[0;36marray\u001b[1;34m(object, dtype, copy, order, ndmin)\u001b[0m\n\u001b[0;32m   2045\u001b[0m   \u001b[39melse\u001b[39;00m:\n\u001b[0;32m   2046\u001b[0m     \u001b[39mreturn\u001b[39;00m array(np\u001b[39m.\u001b[39masarray(view), dtype, copy, ndmin\u001b[39m=\u001b[39mndmin)\n\u001b[1;32m-> 2048\u001b[0m   \u001b[39mraise\u001b[39;00m \u001b[39mTypeError\u001b[39;00m(\u001b[39mf\u001b[39m\u001b[39m\"\u001b[39m\u001b[39mUnexpected input type for array: \u001b[39m\u001b[39m{\u001b[39;00m\u001b[39mtype\u001b[39m(\u001b[39mobject\u001b[39m)\u001b[39m}\u001b[39;00m\u001b[39m\"\u001b[39m)\n\u001b[0;32m   2050\u001b[0m out_array: Array \u001b[39m=\u001b[39m lax_internal\u001b[39m.\u001b[39m_convert_element_type(out, dtype, weak_type\u001b[39m=\u001b[39mweak_type)\n\u001b[0;32m   2051\u001b[0m \u001b[39mif\u001b[39;00m ndmin \u001b[39m>\u001b[39m ndim(out_array):\n",
      "\u001b[1;31mTypeError\u001b[0m: Unexpected input type for array: <class '__main__.SFDomain'>"
     ]
    }
   ],
   "source": [
    "pts = jnp.linspace(0,1,21)\n",
    "vmap(multifidelity_network,(None,0,None))(A,pts,1)"
   ]
  },
  {
   "cell_type": "code",
   "execution_count": 32,
   "metadata": {},
   "outputs": [
    {
     "data": {
      "text/plain": [
       "Array([1, 2], dtype=int32)"
      ]
     },
     "execution_count": 32,
     "metadata": {},
     "output_type": "execute_result"
    }
   ],
   "source": [
    "jnp.array(range(1,3))"
   ]
  },
  {
   "cell_type": "markdown",
   "metadata": {},
   "source": [
    "#### The below example shows how to register a tree so that one can utilize the tree inside of a @jit function"
   ]
  },
  {
   "cell_type": "markdown",
   "metadata": {},
   "source": [
    "We define a class called `Special` and a class called `SpecialLeaf`. The `Special` class serves as the root and the `SpecialLeaf` class will be used to create nodes on this tree. Below we create a function that will output the flattened and unflattened trees."
   ]
  },
  {
   "cell_type": "code",
   "execution_count": null,
   "metadata": {},
   "outputs": [],
   "source": [
    "def show_example(structured):\n",
    "  flat, tree = tree_flatten(structured)\n",
    "  unflattened = tree_unflatten(tree, flat)\n",
    "  print(f\"{structured=}\\n  {flat=}\\n  {tree=}\\n  {unflattened=}\")"
   ]
  },
  {
   "cell_type": "code",
   "execution_count": 137,
   "metadata": {},
   "outputs": [],
   "source": [
    "class Special(NodeMixin):\n",
    "  def __init__(self, name):\n",
    "    self.name = name\n",
    "  \n",
    "  def register_children(self):\n",
    "    registration = []\n",
    "    # registration = ()\n",
    "    for child in self.children:\n",
    "      registration.append(child.__repr__())\n",
    "      # registration = registration + (child.__repr__(),)\n",
    "    return registration\n",
    "\n",
    "  def __repr__(self):\n",
    "    return \"Special(name={}, children={})\".format(self.name, self.register_children())\n",
    "\n",
    "class SpecialLeaf(NodeMixin):\n",
    "  def __init__(self, name, parent):\n",
    "    self.name = name\n",
    "    self.parent = parent\n",
    "\n",
    "  def register_children(self):\n",
    "    registration = []\n",
    "    # registration = ()\n",
    "    for child in self.children:\n",
    "      registration.append(child.__repr__())\n",
    "      # registration = registration + (child.__repr__(),)\n",
    "    return registration\n",
    "\n",
    "  def __repr__(self):\n",
    "    return \"SpecialLeaf(name={}, children={})\".format(self.name,self.register_children())"
   ]
  },
  {
   "cell_type": "code",
   "execution_count": 158,
   "metadata": {},
   "outputs": [],
   "source": [
    "A = Special(1)\n",
    "B = SpecialLeaf(2,parent=A)\n",
    "C = SpecialLeaf(3,parent=A)\n",
    "D = SpecialLeaf(4,parent=B)"
   ]
  },
  {
   "cell_type": "code",
   "execution_count": 160,
   "metadata": {},
   "outputs": [
    {
     "name": "stdout",
     "output_type": "stream",
     "text": [
      "structured=Special(name=1, children=[\"SpecialLeaf(name=2, children=['SpecialLeaf(name=4, children=[])'])\", 'SpecialLeaf(name=3, children=[])'])\n",
      "  flat=[Special(name=1, children=[\"SpecialLeaf(name=2, children=['SpecialLeaf(name=4, children=[])'])\", 'SpecialLeaf(name=3, children=[])'])]\n",
      "  tree=PyTreeDef(*)\n",
      "  unflattened=Special(name=1, children=[\"SpecialLeaf(name=2, children=['SpecialLeaf(name=4, children=[])'])\", 'SpecialLeaf(name=3, children=[])'])\n"
     ]
    }
   ],
   "source": [
    "show_example(A)"
   ]
  },
  {
   "cell_type": "code",
   "execution_count": 180,
   "metadata": {},
   "outputs": [],
   "source": [
    "class RegisteredSpecial(Special):\n",
    "  def __repr__(self):\n",
    "    return \"Special(name={}, children={})\".format(self.name,self.register_children())\n",
    "  \n",
    "def return_leaves(v):\n",
    "  leaves = [v.name]\n",
    "  # leaves = (v.name,)\n",
    "  for child in v.children:\n",
    "    leaves.append(return_leaves(child))\n",
    "    # leaves = leaves + (return_leaves(child),)\n",
    "  return leaves\n",
    "\n",
    "def special_flatten(v):\n",
    "  leaves = [v.name]\n",
    "  # leaves = (v.name,)\n",
    "  for child in v.children:\n",
    "    leaves.append(return_leaves(child))\n",
    "    # leaves = leaves + (return_leaves(child),)\n",
    "  aux_data = None\n",
    "  return (leaves, aux_data)\n",
    "\n",
    "def grow_tree(parent,tree):\n",
    "  new_parent = SpecialLeaf(tree[0],parent=parent)\n",
    "  for branch in tree[1:]:\n",
    "    grow_tree(new_parent,branch)\n",
    "\n",
    "def special_unflatten(aux_data, tree):\n",
    "  root = RegisteredSpecial(tree[0])\n",
    "  for branch in tree[1:]:\n",
    "    grow_tree(root,branch)\n",
    "  return root\n",
    "\n",
    "# Global registration\n",
    "register_pytree_node(\n",
    "    RegisteredSpecial,\n",
    "    special_flatten,    # tell JAX what are the children nodes\n",
    "    special_unflatten   # tell JAX how to pack back into a RegisteredSpecial\n",
    ")\n"
   ]
  },
  {
   "cell_type": "code",
   "execution_count": 181,
   "metadata": {},
   "outputs": [],
   "source": [
    "a = RegisteredSpecial(1)\n",
    "b = SpecialLeaf(2,parent=a)\n",
    "c = SpecialLeaf(3,parent=a)\n",
    "d = SpecialLeaf(4,parent=b)"
   ]
  },
  {
   "cell_type": "code",
   "execution_count": 184,
   "metadata": {},
   "outputs": [
    {
     "name": "stdout",
     "output_type": "stream",
     "text": [
      "structured=Special(name=1, children=[\"SpecialLeaf(name=2, children=['SpecialLeaf(name=4, children=[])'])\", 'SpecialLeaf(name=3, children=[])'])\n",
      "  flat=[1, 2, 4, 3]\n",
      "  tree=PyTreeDef(CustomNode(RegisteredSpecial[None], [*, [*, [*]], [*]]))\n",
      "  unflattened=Special(name=1, children=[\"SpecialLeaf(name=2, children=['SpecialLeaf(name=4, children=[])'])\", 'SpecialLeaf(name=3, children=[])'])\n"
     ]
    }
   ],
   "source": [
    "show_example(a)"
   ]
  },
  {
   "cell_type": "code",
   "execution_count": 187,
   "metadata": {},
   "outputs": [],
   "source": [
    "@jit\n",
    "def print_node(root,temp):\n",
    "    return root.name"
   ]
  },
  {
   "cell_type": "code",
   "execution_count": 190,
   "metadata": {},
   "outputs": [
    {
     "data": {
      "text/plain": [
       "Array([1, 1, 1, 1], dtype=int32, weak_type=True)"
      ]
     },
     "execution_count": 190,
     "metadata": {},
     "output_type": "execute_result"
    }
   ],
   "source": [
    "temp = jnp.linspace(0,1,4)\n",
    "vmap(print_node,(None,0))(a,temp)"
   ]
  },
  {
   "cell_type": "code",
   "execution_count": 191,
   "metadata": {},
   "outputs": [],
   "source": [
    "a.name = 2"
   ]
  },
  {
   "cell_type": "code",
   "execution_count": 192,
   "metadata": {},
   "outputs": [
    {
     "data": {
      "text/plain": [
       "Array([2, 2, 2, 2], dtype=int32, weak_type=True)"
      ]
     },
     "execution_count": 192,
     "metadata": {},
     "output_type": "execute_result"
    }
   ],
   "source": [
    "temp = jnp.linspace(0,1,4)\n",
    "vmap(print_node,(None,0))(a,temp)"
   ]
  },
  {
   "cell_type": "code",
   "execution_count": null,
   "metadata": {},
   "outputs": [],
   "source": []
  },
  {
   "cell_type": "code",
   "execution_count": null,
   "metadata": {},
   "outputs": [],
   "source": []
  },
  {
   "cell_type": "code",
   "execution_count": null,
   "metadata": {},
   "outputs": [],
   "source": []
  },
  {
   "cell_type": "code",
   "execution_count": null,
   "metadata": {},
   "outputs": [],
   "source": []
  },
  {
   "cell_type": "code",
   "execution_count": null,
   "metadata": {},
   "outputs": [],
   "source": []
  },
  {
   "cell_type": "code",
   "execution_count": 27,
   "metadata": {},
   "outputs": [],
   "source": [
    "@partial(jit,static_argnums=(0,1))\n",
    "def foo(i,f):\n",
    "    f = foo3\n",
    "    return f(i)\n",
    "\n",
    "def foo2(i):\n",
    "    return 2*i\n",
    "\n",
    "def foo3(i):\n",
    "    return 3*i"
   ]
  },
  {
   "cell_type": "code",
   "execution_count": 28,
   "metadata": {},
   "outputs": [
    {
     "data": {
      "text/plain": [
       "Array(18, dtype=int32, weak_type=True)"
      ]
     },
     "execution_count": 28,
     "metadata": {},
     "output_type": "execute_result"
    }
   ],
   "source": [
    "foo(6,foo2)"
   ]
  },
  {
   "cell_type": "code",
   "execution_count": 32,
   "metadata": {},
   "outputs": [],
   "source": [
    "def f(x,x_copy,y):\n",
    "  if x_copy < 3:\n",
    "    return 3. * x * y\n",
    "  else:\n",
    "    return -4 * x **2 * y\n",
    "\n",
    "f = grad(jit(f, static_argnums=(1,)),0)"
   ]
  },
  {
   "cell_type": "code",
   "execution_count": 33,
   "metadata": {},
   "outputs": [
    {
     "name": "stdout",
     "output_type": "stream",
     "text": [
      "-32.0\n"
     ]
    }
   ],
   "source": [
    "print(f(4.,4.,1.))"
   ]
  },
  {
   "cell_type": "code",
   "execution_count": 34,
   "metadata": {},
   "outputs": [
    {
     "name": "stdout",
     "output_type": "stream",
     "text": [
      "-40.0\n"
     ]
    }
   ],
   "source": [
    "print(f(5.,5.,1.))"
   ]
  },
  {
   "cell_type": "code",
   "execution_count": 20,
   "metadata": {},
   "outputs": [
    {
     "data": {
      "text/plain": [
       "1"
      ]
     },
     "execution_count": 20,
     "metadata": {},
     "output_type": "execute_result"
    }
   ],
   "source": [
    "import numpy as np\n",
    "\n",
    "v = np.arange(10)\n",
    "v[:1]\n",
    "v[1]"
   ]
  },
  {
   "cell_type": "code",
   "execution_count": 40,
   "metadata": {},
   "outputs": [],
   "source": [
    "@partial(jit, static_argnums = (1,))\n",
    "def foo(x,x_copy):\n",
    "    vals = jnp.zeros(3)\n",
    "    if x_copy[0] > 0:\n",
    "        vals[0] = x[0]\n",
    "    else:\n",
    "        vals[0] = -x[0]\n",
    "\n",
    "    if x_copy[1] > 0:\n",
    "        vals[1] = x[1]\n",
    "    else:\n",
    "        vals[1] = -x[1]\n",
    "\n",
    "    if x_copy[2] > 0:\n",
    "        vals[2] = x[2]\n",
    "    else:\n",
    "        vals[2] = -x[2]\n",
    "        \n",
    "    return vals"
   ]
  },
  {
   "cell_type": "code",
   "execution_count": 41,
   "metadata": {},
   "outputs": [
    {
     "ename": "ValueError",
     "evalue": "Non-hashable static arguments are not supported. An error occurred during a call to 'foo' while trying to hash an object of type <class 'jaxlib.xla_extension.ArrayImpl'>, [2. 3. 4.]. The error was:\nTypeError: unhashable type: 'ArrayImpl'\n",
     "output_type": "error",
     "traceback": [
      "\u001b[1;31m---------------------------------------------------------------------------\u001b[0m",
      "\u001b[1;31mValueError\u001b[0m                                Traceback (most recent call last)",
      "Cell \u001b[1;32mIn[41], line 7\u001b[0m\n\u001b[0;32m      5\u001b[0m pts \u001b[39m=\u001b[39m jnp\u001b[39m.\u001b[39marray([\u001b[39m2.\u001b[39m, \u001b[39m3.\u001b[39m, \u001b[39m4.\u001b[39m])\n\u001b[0;32m      6\u001b[0m pts_copy \u001b[39m=\u001b[39m pts\u001b[39m.\u001b[39mcopy()\n\u001b[1;32m----> 7\u001b[0m foo(\u001b[39mtuple\u001b[39;49m(pts), pts_copy)\n",
      "\u001b[1;31mValueError\u001b[0m: Non-hashable static arguments are not supported. An error occurred during a call to 'foo' while trying to hash an object of type <class 'jaxlib.xla_extension.ArrayImpl'>, [2. 3. 4.]. The error was:\nTypeError: unhashable type: 'ArrayImpl'\n"
     ]
    }
   ],
   "source": [
    "# pts = jnp.array([2.,3.,4.])\n",
    "# pts_copy = pts.copy()\n",
    "# foo(pts,pts_copy)\n",
    "\n",
    "pts = jnp.array([2., 3., 4.])\n",
    "pts_copy = pts.copy()\n",
    "foo(tuple(pts), pts_copy)"
   ]
  },
  {
   "cell_type": "code",
   "execution_count": 64,
   "metadata": {},
   "outputs": [
    {
     "name": "stdout",
     "output_type": "stream",
     "text": [
      "[ 2. -3.  4.]\n"
     ]
    },
    {
     "data": {
      "text/plain": [
       "Array([2., 3., 4.], dtype=float32)"
      ]
     },
     "execution_count": 64,
     "metadata": {},
     "output_type": "execute_result"
    }
   ],
   "source": [
    "from jax import vmap\n",
    "from jax.numpy import zeros, where\n",
    "\n",
    "# @partial(jit, static_argnums = (1,))\n",
    "def foo(x, x_copy):\n",
    "    vals = zeros(3)\n",
    "    vals = where(x > 0, x, -x)\n",
    "    # print(x)\n",
    "    print(x_copy)\n",
    "    return vals\n",
    "\n",
    "pts = jnp.array([2., -3., 4.])\n",
    "pts_copy = pts.copy()\n",
    "# vmap(foo)(pts, pts_copy)\n",
    "foo(pts, pts_copy)"
   ]
  },
  {
   "cell_type": "code",
   "execution_count": 66,
   "metadata": {},
   "outputs": [],
   "source": [
    "from jax import lax"
   ]
  },
  {
   "cell_type": "code",
   "execution_count": 74,
   "metadata": {},
   "outputs": [
    {
     "data": {
      "text/plain": [
       "Array(1, dtype=int32, weak_type=True)"
      ]
     },
     "execution_count": 74,
     "metadata": {},
     "output_type": "execute_result"
    }
   ],
   "source": [
    "val = jnp.array([1.])\n",
    "lax.cond(1 > 0, lambda: 1, lambda: 2)"
   ]
  },
  {
   "cell_type": "code",
   "execution_count": null,
   "metadata": {},
   "outputs": [],
   "source": []
  }
 ],
 "metadata": {
  "kernelspec": {
   "display_name": "Python 3",
   "language": "python",
   "name": "python3"
  },
  "language_info": {
   "codemirror_mode": {
    "name": "ipython",
    "version": 3
   },
   "file_extension": ".py",
   "mimetype": "text/x-python",
   "name": "python",
   "nbconvert_exporter": "python",
   "pygments_lexer": "ipython3",
   "version": "3.11.4"
  },
  "orig_nbformat": 4
 },
 "nbformat": 4,
 "nbformat_minor": 2
}
