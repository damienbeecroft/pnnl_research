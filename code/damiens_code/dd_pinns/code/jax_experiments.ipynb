{
 "cells": [
  {
   "cell_type": "code",
   "execution_count": 29,
   "metadata": {},
   "outputs": [],
   "source": [
    "from jax import jit, grad, vmap, random\n",
    "from jax.lax import cond, fori_loop\n",
    "import jax.numpy as jnp\n",
    "# import jax.tree_util\n",
    "from jax.tree_util import tree_flatten, tree_unflatten, register_pytree_node, \\\n",
    "    tree_flatten_with_path, tree_structure, tree_map\n",
    "from utils_fs_v2 import nonlinear_DNN, linear_DNN, DNN\n",
    "from functools import partial\n",
    "from anytree import NodeMixin\n",
    "from math import pi"
   ]
  },
  {
   "cell_type": "markdown",
   "metadata": {},
   "source": [
    "# Section 1"
   ]
  },
  {
   "cell_type": "markdown",
   "metadata": {},
   "source": [
    "#### This is the main code. All the other sections are proofs of concept that are used to develop this main code"
   ]
  },
  {
   "cell_type": "markdown",
   "metadata": {},
   "source": [
    "#### Defining useful parameters"
   ]
  },
  {
   "cell_type": "code",
   "execution_count": 2,
   "metadata": {},
   "outputs": [],
   "source": [
    "# N_sf = 200 # single fidelity hidden width\n",
    "# N_nl = 80 # multifidelity nonlinear network hidden width\n",
    "N_sf = 4 # single fidelity hidden width\n",
    "N_nl = 4 # multifidelity nonlinear network hidden width\n",
    "sfnet_shape = [1, N_sf, N_sf, 2] # shape of the single fidelity network\n",
    "nonlin_mfnet_shape = [3, N_nl, N_nl, 2] # shape of the multifidelity nonlinear network\n",
    "lin_mfnet_shape = [2,  4, 2] # shape of the multifidelity linear network\n",
    "init_nl, apply_nl, weight_nl = nonlinear_DNN(nonlin_mfnet_shape)\n",
    "init_l, apply_l = linear_DNN(lin_mfnet_shape)\n",
    "init_sf, apply_sf = DNN(sfnet_shape)"
   ]
  },
  {
   "cell_type": "markdown",
   "metadata": {},
   "source": [
    "#### Defining the function for applying the multifidelity network"
   ]
  },
  {
   "cell_type": "code",
   "execution_count": 3,
   "metadata": {},
   "outputs": [],
   "source": [
    "def apply_mf(params,vertices,pt,u_lf):\n",
    "    u_nl = apply_nl(params[1], jnp.hstack([pt, u_lf]))\n",
    "    u_l = apply_l(params[0], u_lf)\n",
    "    u_local = u_l + u_nl\n",
    "    w = weight(vertices,pt)\n",
    "    # u_local = w*(u_l + u_nl)\n",
    "    return [u_local, w]\n",
    "\n",
    "def weight(vertices,pt):\n",
    "    \"\"\"\n",
    "    NOTE: In Alexander's paper, this is w hat, not w. Amanda does not ensure that the weight\n",
    "            functions constitute a partition of unity globally. I am not sure if this is important?\n",
    "    \"\"\"\n",
    "    mu = (vertices[0] + vertices[1])/2\n",
    "    sigma = (vertices[1] - vertices[0])/2\n",
    "    w = 1 + jnp.cos(pi*(pt-mu)/sigma)\n",
    "    w = w**2\n",
    "    return w"
   ]
  },
  {
   "cell_type": "markdown",
   "metadata": {},
   "source": [
    "#### Defining the classes `SFDomain` and `MFDomain`"
   ]
  },
  {
   "cell_type": "code",
   "execution_count": 4,
   "metadata": {},
   "outputs": [],
   "source": [
    "class RootUtilities:\n",
    "    def __init__(self):\n",
    "        self.levels = [] # list of what classes are on which levels of the domain tree\n",
    "\n",
    "class SFDomain(NodeMixin,RootUtilities):\n",
    "    def __init__(self,vertices,params_prev=[]):\n",
    "        super(SFDomain,self).__init__()\n",
    "        if len(params_prev) > 0:\n",
    "            params = params_prev\n",
    "        else:\n",
    "            params_sf = init_sf(random.PRNGKey(1))\n",
    "            params = (params_sf)\n",
    "        self.params = params\n",
    "        self.vertices = vertices\n",
    "        self.tree_level_organizer(self) # add root to the level organizer\n",
    "        \n",
    "    def register_children(self):\n",
    "        registration = []\n",
    "        for child in self.children:\n",
    "            registration.append(child.__repr__())\n",
    "        return registration\n",
    "    \n",
    "    def tree_level_organizer(self,new_node): # TESTED\n",
    "        \"\"\"\n",
    "        Recognizes which level \"new_node\" is on and places \"new_node\" in the appropriate level in \n",
    "        \"self.levels\".\n",
    "        =================================================================================================\n",
    "        INPUT:\n",
    "        new_node:   A class that is being added to the tree\n",
    "        \"\"\"\n",
    "        depth = new_node.depth # find the depth of the new node\n",
    "        if depth >= len(self.levels): # if \"new_node\" is the first on a new level, add that level to \"self.levels\"\n",
    "            self.levels.append([new_node])\n",
    "        else: # if \"new_node\" is a member of an existing level, add it to that level of \"self.levels\"\n",
    "            self.levels[depth].append(new_node)\n",
    "\n",
    "\n",
    "    def __repr__(self):\n",
    "        return \"SFDomain(vertices={}, params={},children={})\".format(self.vertices, \"sf_params\", self.register_children())\n",
    "\n",
    "class MFDomain(NodeMixin):\n",
    "    def __init__(self,vertices,params_prev=[],parent=None):\n",
    "        if len(params_prev) > 0:\n",
    "            params = params_prev\n",
    "        else:\n",
    "            params_nl = init_nl(random.PRNGKey(13))\n",
    "            params_l = init_l(random.PRNGKey(12345))\n",
    "            params = (params_l, params_nl)\n",
    "        self.params = params\n",
    "        self.vertices = vertices\n",
    "        self.parent = parent\n",
    "        self.root.tree_level_organizer(self) # add current node to the level organizer \n",
    "\n",
    "    def register_children(self):\n",
    "        registration = []\n",
    "        for child in self.children:\n",
    "            registration.append(child.__repr__())\n",
    "        return registration\n",
    "\n",
    "    def __repr__(self):\n",
    "        return \"MFDomain(vertices={}, params={},children={})\".format(self.vertices, \"mf_params\", self.register_children())"
   ]
  },
  {
   "cell_type": "markdown",
   "metadata": {},
   "source": [
    "#### Registering `SFDomain` so that it can be jitted. I believe that it works"
   ]
  },
  {
   "cell_type": "code",
   "execution_count": 5,
   "metadata": {},
   "outputs": [],
   "source": [
    "def return_leaves(v):\n",
    "  leaves = [v.vertices,v.params]\n",
    "  # leaves = (v.name,)\n",
    "  for child in v.children:\n",
    "    leaves.append(return_leaves(child))\n",
    "    # leaves = leaves + (return_leaves(child),)\n",
    "  return leaves\n",
    "\n",
    "def special_flatten(v):\n",
    "  leaves = [v.vertices,v.params]\n",
    "  # leaves = (v.name,)\n",
    "  for child in v.children:\n",
    "    leaves.append(return_leaves(child))\n",
    "    # leaves = leaves + (return_leaves(child),)\n",
    "  aux_data = None\n",
    "  return (leaves, aux_data)\n",
    "\n",
    "def grow_tree(parent,tree):\n",
    "  new_parent = MFDomain(tree[0],tree[1],parent=parent)\n",
    "  for branch in tree[2:]:\n",
    "    grow_tree(new_parent,branch)\n",
    "\n",
    "def special_unflatten(aux_data, tree):\n",
    "  root = SFDomain(tree[0],tree[1])\n",
    "  for branch in tree[2:]:\n",
    "    grow_tree(root,branch)\n",
    "  return root\n",
    "\n",
    "# Global registration\n",
    "register_pytree_node(\n",
    "    SFDomain,\n",
    "    special_flatten,    # tell JAX what are the children nodes\n",
    "    special_unflatten   # tell JAX how to pack back into a RegisteredSpecial\n",
    ")"
   ]
  },
  {
   "cell_type": "code",
   "execution_count": 6,
   "metadata": {},
   "outputs": [],
   "source": [
    "A = SFDomain([[0.0],[1.0]])\n",
    "B = MFDomain([[0.0],[0.6]],parent = A)\n",
    "C = MFDomain([[0.4],[1.0]],parent = A)\n",
    "# D = MFDomain([[0.0],[0.3]],parent = B)\n",
    "# E = MFDomain([[0.2],[0.5]],parent = B)\n",
    "# F = MFDomain([[0.4],[0.7]],parent = C)\n",
    "# G = MFDomain([[0.6],[1.0]],parent = C)"
   ]
  },
  {
   "cell_type": "code",
   "execution_count": 9,
   "metadata": {},
   "outputs": [],
   "source": [
    "def is_interior(vertices,pt):\n",
    "    \"\"\"\n",
    "    Returns true if the point \"pt\" is on the interior of the hyperrectangle defined by vertices\n",
    "    \"\"\"\n",
    "    return ((vertices[0] < pt) & (pt < vertices[1])).all()\n",
    "\n",
    "def apply_lvl(is_in,params,vertices,pt,u_pred):\n",
    "    return cond(is_in,apply_mf,lambda a,b,c,d: [0., 0.], (params,vertices,pt,u_pred))\n",
    "\n",
    "def multifidelity_network_body(idx,val):\n",
    "    root, pt, u_pred = val\n",
    "    level = root.levels[idx]\n",
    "    lvl_vertices = jnp.array([mfdomain.vertices for mfdomain in level])\n",
    "    lvl_params = jnp.array([mfdomain.params for mfdomain in level])\n",
    "    lvl_is_in = vmap(is_interior,(0,None))(lvl_vertices,pt)\n",
    "    mfouts_and_weights = vmap(apply_lvl, (0,0,0,None,None))(lvl_is_in,lvl_params,lvl_vertices,pt,u_pred)\n",
    "    mfouts = mfouts_and_weights[:,0]\n",
    "    weights = mfouts_and_weights[:,1]\n",
    "    total_weight = weights.sum()\n",
    "    weights = weights/total_weight\n",
    "    mfouts = mfouts*weights\n",
    "    u_pred = mfouts.sum()\n",
    "    return (root,pt,u_pred)\n",
    "\n",
    "# @jit\n",
    "def multifidelity_network(root,pt,max_level):\n",
    "    u_pred = apply_sf(root.params,pt) # get the single fidelity approximation\n",
    "    # print(root.vertices)\n",
    "    # print(root.params[0])\n",
    "    # print(root.params[1])\n",
    "    # print(root.params[2])\n",
    "\n",
    "    # temp = jnp.array([[root.params]])\n",
    "    # temp = jnp.array([root])\n",
    "    # print(root.children[0].vertices)\n",
    "    fori_loop(1,max_level+1,multifidelity_network_body,(root,pt,u_pred))\n",
    "    return u_pred\n",
    "\n",
    "\n",
    "@jit\n",
    "def multifidelity_network(root,pt,max_level):\n",
    "    u_pred = apply_sf(root.params,pt) # get the single fidelity approximation\n",
    "    for idx in range(1,max_level+1):\n",
    "        level = root.levels[idx]\n",
    "        lvl_vertices = jnp.array([mfdomain.vertices for mfdomain in level])\n",
    "        lvl_params = jnp.array([mfdomain.params for mfdomain in level])\n",
    "        lvl_is_in = vmap(is_interior,(0,None))(lvl_vertices,pt)\n",
    "        mfouts_and_weights = vmap(apply_lvl, (0,0,0,None,None))(lvl_is_in,lvl_params,lvl_vertices,pt,u_pred)\n",
    "        mfouts = mfouts_and_weights[:,0]\n",
    "        weights = mfouts_and_weights[:,1]\n",
    "        total_weight = weights.sum()\n",
    "        weights = weights/total_weight\n",
    "        mfouts = mfouts*weights\n",
    "        u_pred = mfouts.sum()\n",
    "    return u_pred"
   ]
  },
  {
   "cell_type": "code",
   "execution_count": 10,
   "metadata": {},
   "outputs": [
    {
     "ename": "TracerIntegerConversionError",
     "evalue": "The __index__() method was called on the JAX Tracer object Traced<ShapedArray(int32[], weak_type=True)>with<DynamicJaxprTrace(level=2/0)>\nSee https://jax.readthedocs.io/en/latest/errors.html#jax.errors.TracerIntegerConversionError",
     "output_type": "error",
     "traceback": [
      "\u001b[1;31m---------------------------------------------------------------------------\u001b[0m",
      "\u001b[1;31mTracerIntegerConversionError\u001b[0m              Traceback (most recent call last)",
      "Cell \u001b[1;32mIn[10], line 3\u001b[0m\n\u001b[0;32m      1\u001b[0m pts \u001b[39m=\u001b[39m jnp\u001b[39m.\u001b[39mlinspace(\u001b[39m0\u001b[39m,\u001b[39m1\u001b[39m,\u001b[39m21\u001b[39m)\n\u001b[0;32m      2\u001b[0m level_sizes \u001b[39m=\u001b[39m jnp\u001b[39m.\u001b[39marray([\u001b[39mlen\u001b[39m(A\u001b[39m.\u001b[39mlevels[i]) \u001b[39mfor\u001b[39;00m i \u001b[39min\u001b[39;00m \u001b[39mrange\u001b[39m(\u001b[39mlen\u001b[39m(A\u001b[39m.\u001b[39mlevels))])\n\u001b[1;32m----> 3\u001b[0m vmap(multifidelity_network,(\u001b[39mNone\u001b[39;49;00m,\u001b[39m0\u001b[39;49m,\u001b[39mNone\u001b[39;49;00m))(A,pts,\u001b[39m1\u001b[39;49m)\n",
      "    \u001b[1;31m[... skipping hidden 3 frame]\u001b[0m\n",
      "Cell \u001b[1;32mIn[9], line 36\u001b[0m, in \u001b[0;36mmultifidelity_network\u001b[1;34m(root, pt, max_level)\u001b[0m\n\u001b[0;32m     27\u001b[0m u_pred \u001b[39m=\u001b[39m apply_sf(root\u001b[39m.\u001b[39mparams,pt) \u001b[39m# get the single fidelity approximation\u001b[39;00m\n\u001b[0;32m     28\u001b[0m \u001b[39m# print(root.vertices)\u001b[39;00m\n\u001b[0;32m     29\u001b[0m \u001b[39m# print(root.params[0])\u001b[39;00m\n\u001b[0;32m     30\u001b[0m \u001b[39m# print(root.params[1])\u001b[39;00m\n\u001b[1;32m   (...)\u001b[0m\n\u001b[0;32m     34\u001b[0m \u001b[39m# temp = jnp.array([root])\u001b[39;00m\n\u001b[0;32m     35\u001b[0m \u001b[39m# print(root.children[0].vertices)\u001b[39;00m\n\u001b[1;32m---> 36\u001b[0m fori_loop(\u001b[39m1\u001b[39;49m,max_level\u001b[39m+\u001b[39;49m\u001b[39m1\u001b[39;49m,multifidelity_network_body,(root,pt,u_pred))\n\u001b[0;32m     37\u001b[0m \u001b[39mreturn\u001b[39;00m u_pred\n",
      "    \u001b[1;31m[... skipping hidden 12 frame]\u001b[0m\n",
      "Cell \u001b[1;32mIn[9], line 12\u001b[0m, in \u001b[0;36mmultifidelity_network_body\u001b[1;34m(idx, val)\u001b[0m\n\u001b[0;32m     10\u001b[0m \u001b[39mdef\u001b[39;00m \u001b[39mmultifidelity_network_body\u001b[39m(idx,val):\n\u001b[0;32m     11\u001b[0m     root, pt, u_pred \u001b[39m=\u001b[39m val\n\u001b[1;32m---> 12\u001b[0m     level \u001b[39m=\u001b[39m root\u001b[39m.\u001b[39;49mlevels[idx]\n\u001b[0;32m     13\u001b[0m     lvl_vertices \u001b[39m=\u001b[39m jnp\u001b[39m.\u001b[39marray([mfdomain\u001b[39m.\u001b[39mvertices \u001b[39mfor\u001b[39;00m mfdomain \u001b[39min\u001b[39;00m level])\n\u001b[0;32m     14\u001b[0m     lvl_params \u001b[39m=\u001b[39m jnp\u001b[39m.\u001b[39marray([mfdomain\u001b[39m.\u001b[39mparams \u001b[39mfor\u001b[39;00m mfdomain \u001b[39min\u001b[39;00m level])\n",
      "File \u001b[1;32m~\\AppData\\Local\\Packages\\PythonSoftwareFoundation.Python.3.11_qbz5n2kfra8p0\\LocalCache\\local-packages\\Python311\\site-packages\\jax\\_src\\core.py:605\u001b[0m, in \u001b[0;36mTracer.__index__\u001b[1;34m(self)\u001b[0m\n\u001b[0;32m    604\u001b[0m \u001b[39mdef\u001b[39;00m \u001b[39m__index__\u001b[39m(\u001b[39mself\u001b[39m):\n\u001b[1;32m--> 605\u001b[0m   \u001b[39mraise\u001b[39;00m TracerIntegerConversionError(\u001b[39mself\u001b[39m)\n",
      "\u001b[1;31mTracerIntegerConversionError\u001b[0m: The __index__() method was called on the JAX Tracer object Traced<ShapedArray(int32[], weak_type=True)>with<DynamicJaxprTrace(level=2/0)>\nSee https://jax.readthedocs.io/en/latest/errors.html#jax.errors.TracerIntegerConversionError"
     ]
    }
   ],
   "source": [
    "pts = jnp.linspace(0,1,21)\n",
    "level_sizes = jnp.array([len(A.levels[i]) for i in range(len(A.levels))])\n",
    "vmap(multifidelity_network,(None,0,None))(A,pts,1)"
   ]
  },
  {
   "cell_type": "code",
   "execution_count": null,
   "metadata": {},
   "outputs": [],
   "source": []
  },
  {
   "cell_type": "code",
   "execution_count": null,
   "metadata": {},
   "outputs": [],
   "source": []
  },
  {
   "cell_type": "code",
   "execution_count": 32,
   "metadata": {},
   "outputs": [
    {
     "data": {
      "text/plain": [
       "Array([1, 2], dtype=int32)"
      ]
     },
     "execution_count": 32,
     "metadata": {},
     "output_type": "execute_result"
    }
   ],
   "source": [
    "jnp.array(range(1,3))"
   ]
  },
  {
   "cell_type": "code",
   "execution_count": 46,
   "metadata": {},
   "outputs": [
    {
     "name": "stdout",
     "output_type": "stream",
     "text": [
      "[0.0, 0.0]\n"
     ]
    }
   ],
   "source": [
    "func = lambda x,y: [0.,0.]\n",
    "print(func(1,2))"
   ]
  },
  {
   "cell_type": "markdown",
   "metadata": {},
   "source": [
    "# Section 2"
   ]
  },
  {
   "cell_type": "markdown",
   "metadata": {},
   "source": [
    "#### The below example shows how to register a tree so that one can utilize the tree inside of a @jit function"
   ]
  },
  {
   "cell_type": "markdown",
   "metadata": {},
   "source": [
    "We define a class called `Special` and a class called `SpecialLeaf`. The `Special` class serves as the root and the `SpecialLeaf` class will be used to create nodes on this tree. Below we create a function that will output the flattened and unflattened trees."
   ]
  },
  {
   "cell_type": "code",
   "execution_count": 38,
   "metadata": {},
   "outputs": [],
   "source": [
    "def show_example(structured):\n",
    "  flat, tree = tree_flatten(structured)\n",
    "  unflattened = tree_unflatten(tree, flat)\n",
    "  print(f\"{structured=}\\n  {flat=}\\n  {tree=}\\n  {unflattened=}\")"
   ]
  },
  {
   "cell_type": "code",
   "execution_count": 39,
   "metadata": {},
   "outputs": [],
   "source": [
    "class Special(NodeMixin):\n",
    "  def __init__(self, name):\n",
    "    self.name = name\n",
    "  \n",
    "  def register_children(self):\n",
    "    registration = []\n",
    "    # registration = ()\n",
    "    for child in self.children:\n",
    "      registration.append(child.__repr__())\n",
    "      # registration = registration + (child.__repr__(),)\n",
    "    return registration\n",
    "\n",
    "  def __repr__(self):\n",
    "    return \"Special(name={}, children={})\".format(self.name, self.register_children())\n",
    "\n",
    "class SpecialLeaf(NodeMixin):\n",
    "  def __init__(self, name, parent):\n",
    "    self.name = name\n",
    "    self.parent = parent\n",
    "\n",
    "  def register_children(self):\n",
    "    registration = []\n",
    "    # registration = ()\n",
    "    for child in self.children:\n",
    "      registration.append(child.__repr__())\n",
    "      # registration = registration + (child.__repr__(),)\n",
    "    return registration\n",
    "\n",
    "  def __repr__(self):\n",
    "    return \"SpecialLeaf(name={}, children={})\".format(self.name,self.register_children())"
   ]
  },
  {
   "cell_type": "code",
   "execution_count": 40,
   "metadata": {},
   "outputs": [],
   "source": [
    "A = Special(1)\n",
    "B = SpecialLeaf(2,parent=A)\n",
    "C = SpecialLeaf(3,parent=A)\n",
    "D = SpecialLeaf(4,parent=B)"
   ]
  },
  {
   "cell_type": "markdown",
   "metadata": {},
   "source": [
    "#### The below examples will not work because we have not registered the tree"
   ]
  },
  {
   "cell_type": "code",
   "execution_count": 41,
   "metadata": {},
   "outputs": [
    {
     "name": "stdout",
     "output_type": "stream",
     "text": [
      "structured=Special(name=1, children=[\"SpecialLeaf(name=2, children=['SpecialLeaf(name=4, children=[])'])\", 'SpecialLeaf(name=3, children=[])'])\n",
      "  flat=[Special(name=1, children=[\"SpecialLeaf(name=2, children=['SpecialLeaf(name=4, children=[])'])\", 'SpecialLeaf(name=3, children=[])'])]\n",
      "  tree=PyTreeDef(*)\n",
      "  unflattened=Special(name=1, children=[\"SpecialLeaf(name=2, children=['SpecialLeaf(name=4, children=[])'])\", 'SpecialLeaf(name=3, children=[])'])\n"
     ]
    }
   ],
   "source": [
    "show_example(A)"
   ]
  },
  {
   "cell_type": "markdown",
   "metadata": {},
   "source": [
    "Note that \"tree\" does not show any of the structure of A. The \"flat\" attribute is also not flat."
   ]
  },
  {
   "cell_type": "markdown",
   "metadata": {},
   "source": [
    "#### Now we register the code to see what happens"
   ]
  },
  {
   "cell_type": "code",
   "execution_count": 42,
   "metadata": {},
   "outputs": [],
   "source": [
    "class RegisteredSpecial(Special):\n",
    "  def __repr__(self):\n",
    "    return \"Special(name={}, children={})\".format(self.name,self.register_children())\n",
    "  \n",
    "def return_leaves(v):\n",
    "  leaves = [v.name]\n",
    "  # leaves = (v.name,)\n",
    "  for child in v.children:\n",
    "    leaves.append(return_leaves(child))\n",
    "    # leaves = leaves + (return_leaves(child),)\n",
    "  return leaves\n",
    "\n",
    "def special_flatten(v):\n",
    "  leaves = [v.name]\n",
    "  # leaves = (v.name,)\n",
    "  for child in v.children:\n",
    "    leaves.append(return_leaves(child))\n",
    "    # leaves = leaves + (return_leaves(child),)\n",
    "  aux_data = None\n",
    "  return (leaves, aux_data)\n",
    "\n",
    "def grow_tree(parent,tree):\n",
    "  new_parent = SpecialLeaf(tree[0],parent=parent)\n",
    "  for branch in tree[1:]:\n",
    "    grow_tree(new_parent,branch)\n",
    "\n",
    "def special_unflatten(aux_data, tree):\n",
    "  root = RegisteredSpecial(tree[0])\n",
    "  for branch in tree[1:]:\n",
    "    grow_tree(root,branch)\n",
    "  return root\n",
    "\n",
    "# Global registration\n",
    "register_pytree_node(\n",
    "    RegisteredSpecial,\n",
    "    special_flatten,    # tell JAX what are the children nodes\n",
    "    special_unflatten   # tell JAX how to pack back into a RegisteredSpecial\n",
    ")\n"
   ]
  },
  {
   "cell_type": "code",
   "execution_count": 43,
   "metadata": {},
   "outputs": [],
   "source": [
    "a = RegisteredSpecial(1)\n",
    "b = SpecialLeaf(2,parent=a)\n",
    "c = SpecialLeaf(3,parent=a)\n",
    "d = SpecialLeaf(4,parent=b)"
   ]
  },
  {
   "cell_type": "code",
   "execution_count": 45,
   "metadata": {},
   "outputs": [
    {
     "name": "stdout",
     "output_type": "stream",
     "text": [
      "structured=Special(name=1, children=[\"SpecialLeaf(name=2, children=['SpecialLeaf(name=4, children=[])'])\", 'SpecialLeaf(name=3, children=[])'])\n",
      "  flat=[1, 2, 4, 3]\n",
      "  tree=PyTreeDef(CustomNode(RegisteredSpecial[None], [*, [*, [*]], [*]]))\n",
      "  unflattened=Special(name=1, children=[\"SpecialLeaf(name=2, children=['SpecialLeaf(name=4, children=[])'])\", 'SpecialLeaf(name=3, children=[])'])\n"
     ]
    }
   ],
   "source": [
    "show_example(a)"
   ]
  },
  {
   "cell_type": "markdown",
   "metadata": {},
   "source": [
    "This is what the output of \"show_example should look like."
   ]
  },
  {
   "cell_type": "markdown",
   "metadata": {},
   "source": [
    "#### Now, we make sure that a jitted function actually detects whether the data inside the structure has changed."
   ]
  },
  {
   "cell_type": "code",
   "execution_count": 187,
   "metadata": {},
   "outputs": [],
   "source": [
    "@jit\n",
    "def print_node(root,temp):\n",
    "    return root.name"
   ]
  },
  {
   "cell_type": "code",
   "execution_count": 190,
   "metadata": {},
   "outputs": [
    {
     "data": {
      "text/plain": [
       "Array([1, 1, 1, 1], dtype=int32, weak_type=True)"
      ]
     },
     "execution_count": 190,
     "metadata": {},
     "output_type": "execute_result"
    }
   ],
   "source": [
    "temp = jnp.linspace(0,1,4)\n",
    "vmap(print_node,(None,0))(a,temp)"
   ]
  },
  {
   "cell_type": "code",
   "execution_count": 191,
   "metadata": {},
   "outputs": [],
   "source": [
    "a.name = 2"
   ]
  },
  {
   "cell_type": "code",
   "execution_count": 192,
   "metadata": {},
   "outputs": [
    {
     "data": {
      "text/plain": [
       "Array([2, 2, 2, 2], dtype=int32, weak_type=True)"
      ]
     },
     "execution_count": 192,
     "metadata": {},
     "output_type": "execute_result"
    }
   ],
   "source": [
    "temp = jnp.linspace(0,1,4)\n",
    "vmap(print_node,(None,0))(a,temp)"
   ]
  },
  {
   "cell_type": "markdown",
   "metadata": {},
   "source": [
    "#### Yay! The output changed meaning the jitted function `print_node` detected the fact that the tree changed"
   ]
  },
  {
   "cell_type": "code",
   "execution_count": null,
   "metadata": {},
   "outputs": [],
   "source": []
  },
  {
   "cell_type": "code",
   "execution_count": null,
   "metadata": {},
   "outputs": [],
   "source": []
  },
  {
   "cell_type": "code",
   "execution_count": null,
   "metadata": {},
   "outputs": [],
   "source": []
  },
  {
   "cell_type": "markdown",
   "metadata": {},
   "source": [
    "# Section 3"
   ]
  },
  {
   "cell_type": "markdown",
   "metadata": {},
   "source": [
    "#### In this section I am analyzing how to retrieve key paths in the pytree. Make sure to run Section 2 before this section."
   ]
  },
  {
   "cell_type": "code",
   "execution_count": 52,
   "metadata": {},
   "outputs": [],
   "source": [
    "from jax.tree_util import treedef_children"
   ]
  },
  {
   "cell_type": "code",
   "execution_count": 53,
   "metadata": {},
   "outputs": [],
   "source": [
    "a = RegisteredSpecial(1)\n",
    "b = SpecialLeaf(2,parent=a)\n",
    "c = SpecialLeaf(3,parent=a)\n",
    "d = SpecialLeaf(4,parent=b)"
   ]
  },
  {
   "cell_type": "code",
   "execution_count": 64,
   "metadata": {},
   "outputs": [
    {
     "data": {
      "text/plain": [
       "PyTreeDef(CustomNode(RegisteredSpecial[None], [*, [*, [*]], [*]]))"
      ]
     },
     "execution_count": 64,
     "metadata": {},
     "output_type": "execute_result"
    }
   ],
   "source": [
    "treedef = tree_structure(a)\n",
    "treedef"
   ]
  },
  {
   "cell_type": "code",
   "execution_count": 65,
   "metadata": {},
   "outputs": [
    {
     "data": {
      "text/plain": [
       "[PyTreeDef(*), PyTreeDef([*, [*]]), PyTreeDef([*])]"
      ]
     },
     "execution_count": 65,
     "metadata": {},
     "output_type": "execute_result"
    }
   ],
   "source": [
    "treedef_children(treedef)"
   ]
  },
  {
   "cell_type": "code",
   "execution_count": 43,
   "metadata": {},
   "outputs": [
    {
     "name": "stdout",
     "output_type": "stream",
     "text": [
      "Value of tree[0]: 1\n",
      "Value of tree[1]['k1']: 2\n",
      "Value of tree[1]['k2'][0]: 3\n",
      "Value of tree[1]['k2'][1]: 4\n",
      "Value of tree[2].name: foo\n"
     ]
    }
   ],
   "source": [
    "import collections\n",
    "import jax\n",
    "ATuple = collections.namedtuple(\"ATuple\", ('name'))\n",
    "\n",
    "tree = [1, {'k1': 2, 'k2': (3, 4)}, ATuple('foo')]\n",
    "flattened, _ = jax.tree_util.tree_flatten_with_path(tree)\n",
    "for key_path, value in flattened:\n",
    "    print(f'Value of tree{jax.tree_util.keystr(key_path)}: {value}')"
   ]
  },
  {
   "cell_type": "markdown",
   "metadata": {},
   "source": [
    "# Section 4"
   ]
  },
  {
   "cell_type": "markdown",
   "metadata": {},
   "source": [
    "#### In this section I am seeing whether it is possible to iterate through an array of structs in jax"
   ]
  },
  {
   "cell_type": "code",
   "execution_count": 2,
   "metadata": {},
   "outputs": [],
   "source": [
    "def show_example(structured):\n",
    "  flat, tree = tree_flatten(structured)\n",
    "  unflattened = tree_unflatten(tree, flat)\n",
    "  print(f\"{structured=}\\n  {flat=}\\n  {tree=}\\n  {unflattened=}\")"
   ]
  },
  {
   "cell_type": "code",
   "execution_count": 3,
   "metadata": {},
   "outputs": [
    {
     "name": "stdout",
     "output_type": "stream",
     "text": [
      "structured=Test(x=1.0, y=2.0)\n",
      "  flat=[Test(x=1.0, y=2.0)]\n",
      "  tree=PyTreeDef(*)\n",
      "  unflattened=Test(x=1.0, y=2.0)\n"
     ]
    }
   ],
   "source": [
    "class Test(object):\n",
    "  def __init__(self, x, y):\n",
    "    self.x = x\n",
    "    self.y = y\n",
    "\n",
    "  def __repr__(self):\n",
    "    return \"Test(x={}, y={})\".format(self.x, self.y)\n",
    "\n",
    "show_example(Test(1., 2.))"
   ]
  },
  {
   "cell_type": "code",
   "execution_count": 4,
   "metadata": {},
   "outputs": [
    {
     "name": "stdout",
     "output_type": "stream",
     "text": [
      "structured=RegisteredTest(x=1.0, y=2.0)\n",
      "  flat=[1.0, 2.0]\n",
      "  tree=PyTreeDef(CustomNode(RegisteredTest[None], [*, *]))\n",
      "  unflattened=RegisteredTest(x=1.0, y=2.0)\n"
     ]
    }
   ],
   "source": [
    "from jax.tree_util import register_pytree_node\n",
    "\n",
    "class RegisteredTest(Test):\n",
    "  def __repr__(self):\n",
    "    return \"RegisteredTest(x={}, y={})\".format(self.x, self.y)\n",
    "\n",
    "def test_flatten(v):\n",
    "  children = (v.x, v.y)\n",
    "  aux_data = None\n",
    "  return (children, aux_data)\n",
    "\n",
    "def test_unflatten(aux_data, children):\n",
    "  return RegisteredTest(*children)\n",
    "\n",
    "# Global registration\n",
    "register_pytree_node(\n",
    "    RegisteredTest,\n",
    "    test_flatten,    # tell JAX what are the children nodes\n",
    "    test_unflatten   # tell JAX how to pack back into a RegisteredSpecial\n",
    ")\n",
    "\n",
    "show_example(RegisteredTest(1., 2.))"
   ]
  },
  {
   "cell_type": "code",
   "execution_count": 5,
   "metadata": {},
   "outputs": [],
   "source": [
    "T1 = RegisteredTest(1., 1.)\n",
    "T2 = RegisteredTest(2.,2.)\n",
    "T3 = RegisteredTest(3.,3.)"
   ]
  },
  {
   "cell_type": "code",
   "execution_count": 11,
   "metadata": {},
   "outputs": [],
   "source": [
    "class TestWrapper:\n",
    "    def __init__(self,T1,T2,T3):\n",
    "        self.T_list = [T1,T2,T3]\n",
    "    \n",
    "    def __repr__(self):\n",
    "      return \"TestWrapper(T_list={})\".format(self.T_list)\n",
    "       \n",
    "\n",
    "def tw_flatten(v):\n",
    "  temp = v.T_list\n",
    "  children = (temp[0].x, temp[0].y,temp[1].x, temp[1].y,temp[2].x, temp[2].y)\n",
    "  aux_data = None\n",
    "  return (children, aux_data)\n",
    "\n",
    "def tw_unflatten(aux_data, children):\n",
    "  Te1 = RegisteredTest(children[0],children[1])\n",
    "  Te2 = RegisteredTest(children[2],children[3])\n",
    "  Te3 = RegisteredTest(children[4],children[5])\n",
    "\n",
    "  return TestWrapper(Te1,Te2,Te3)\n",
    "\n",
    "# Global registration\n",
    "register_pytree_node(\n",
    "    TestWrapper,\n",
    "    tw_flatten,    # tell JAX what are the children nodes\n",
    "    tw_unflatten   # tell JAX how to pack back into a RegisteredSpecial\n",
    ")"
   ]
  },
  {
   "cell_type": "code",
   "execution_count": 12,
   "metadata": {},
   "outputs": [],
   "source": [
    "TW = TestWrapper(T1,T2,T3)"
   ]
  },
  {
   "cell_type": "code",
   "execution_count": 22,
   "metadata": {},
   "outputs": [
    {
     "name": "stdout",
     "output_type": "stream",
     "text": [
      "structured=TestWrapper(T_list=[RegisteredTest(x=1.0, y=1.0), RegisteredTest(x=2.0, y=2.0), RegisteredTest(x=3.0, y=3.0)])\n",
      "  flat=[1.0, 1.0, 2.0, 2.0, 3.0, 3.0]\n",
      "  tree=PyTreeDef(CustomNode(TestWrapper[None], [*, *, *, *, *, *]))\n",
      "  unflattened=TestWrapper(T_list=[RegisteredTest(x=1.0, y=1.0), RegisteredTest(x=2.0, y=2.0), RegisteredTest(x=3.0, y=3.0)])\n"
     ]
    }
   ],
   "source": [
    "show_example(TW)"
   ]
  },
  {
   "cell_type": "code",
   "execution_count": 30,
   "metadata": {},
   "outputs": [],
   "source": [
    "def get_x(T):\n",
    "    return T.x\n",
    "@jit\n",
    "def iter_through(TeW):\n",
    "    # v = np.zeros(3)\n",
    "    # fori_loop(0.,3.,g,0.)\n",
    "    idk = jnp.arange(3)\n",
    "    v = tree_map(lambda x,y: x + y, TeW, TeW)\n",
    "    # for i in np.arange(3):\n",
    "    #     v[i] = TeW.T_list[i].x\n",
    "    #     # TeW.T_list[i].x\n",
    "    #     v.at[i].set(i)\n",
    "    # v.at[i].set(TeW.T_list[i].x)\n",
    "    return v"
   ]
  },
  {
   "cell_type": "code",
   "execution_count": 31,
   "metadata": {},
   "outputs": [
    {
     "data": {
      "text/plain": [
       "TestWrapper(T_list=[RegisteredTest(x=2.0, y=2.0), RegisteredTest(x=4.0, y=4.0), RegisteredTest(x=6.0, y=6.0)])"
      ]
     },
     "execution_count": 31,
     "metadata": {},
     "output_type": "execute_result"
    }
   ],
   "source": [
    "iter_through(TW)"
   ]
  },
  {
   "cell_type": "code",
   "execution_count": null,
   "metadata": {},
   "outputs": [],
   "source": []
  }
 ],
 "metadata": {
  "kernelspec": {
   "display_name": "Python 3",
   "language": "python",
   "name": "python3"
  },
  "language_info": {
   "codemirror_mode": {
    "name": "ipython",
    "version": 3
   },
   "file_extension": ".py",
   "mimetype": "text/x-python",
   "name": "python",
   "nbconvert_exporter": "python",
   "pygments_lexer": "ipython3",
   "version": "3.11.4"
  },
  "orig_nbformat": 4
 },
 "nbformat": 4,
 "nbformat_minor": 2
}
