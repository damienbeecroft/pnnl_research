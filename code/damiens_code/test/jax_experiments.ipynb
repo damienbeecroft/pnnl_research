{
 "cells": [
  {
   "cell_type": "code",
   "execution_count": 1,
   "metadata": {},
   "outputs": [],
   "source": [
    "import jax.numpy as jnp\n",
    "from jax import vmap"
   ]
  },
  {
   "cell_type": "code",
   "execution_count": 2,
   "metadata": {},
   "outputs": [],
   "source": [
    "def foo(x):\n",
    "    return x + 1"
   ]
  },
  {
   "cell_type": "code",
   "execution_count": 13,
   "metadata": {},
   "outputs": [
    {
     "ename": "ValueError",
     "evalue": "vmap was requested to map its argument along axis 1, which implies that its rank should be at least 2, but is only 1 (its shape is (10,))",
     "output_type": "error",
     "traceback": [
      "\u001b[1;31m---------------------------------------------------------------------------\u001b[0m",
      "\u001b[1;31mIndexError\u001b[0m                                Traceback (most recent call last)",
      "File \u001b[1;32m~\\AppData\\Local\\Packages\\PythonSoftwareFoundation.Python.3.11_qbz5n2kfra8p0\\LocalCache\\local-packages\\Python311\\site-packages\\jax\\_src\\api.py:1260\u001b[0m, in \u001b[0;36m_mapped_axis_size.<locals>._get_axis_size\u001b[1;34m(name, shape, axis)\u001b[0m\n\u001b[0;32m   1259\u001b[0m \u001b[39mtry\u001b[39;00m:\n\u001b[1;32m-> 1260\u001b[0m   \u001b[39mreturn\u001b[39;00m shape[axis]\n\u001b[0;32m   1261\u001b[0m \u001b[39mexcept\u001b[39;00m (\u001b[39mIndexError\u001b[39;00m, \u001b[39mTypeError\u001b[39;00m) \u001b[39mas\u001b[39;00m e:\n",
      "\u001b[1;31mIndexError\u001b[0m: tuple index out of range",
      "\nThe above exception was the direct cause of the following exception:\n",
      "\u001b[1;31mValueError\u001b[0m                                Traceback (most recent call last)",
      "Cell \u001b[1;32mIn[13], line 2\u001b[0m\n\u001b[0;32m      1\u001b[0m v \u001b[39m=\u001b[39m jnp\u001b[39m.\u001b[39marange(\u001b[39m10\u001b[39m)\n\u001b[1;32m----> 2\u001b[0m vmap(foo,\u001b[39m1\u001b[39;49m)(v)\n",
      "    \u001b[1;31m[... skipping hidden 6 frame]\u001b[0m\n",
      "File \u001b[1;32m~\\AppData\\Local\\Packages\\PythonSoftwareFoundation.Python.3.11_qbz5n2kfra8p0\\LocalCache\\local-packages\\Python311\\site-packages\\jax\\_src\\api.py:1264\u001b[0m, in \u001b[0;36m_mapped_axis_size.<locals>._get_axis_size\u001b[1;34m(name, shape, axis)\u001b[0m\n\u001b[0;32m   1262\u001b[0m min_rank \u001b[39m=\u001b[39m axis \u001b[39m+\u001b[39m \u001b[39m1\u001b[39m \u001b[39mif\u001b[39;00m axis \u001b[39m>\u001b[39m\u001b[39m=\u001b[39m \u001b[39m0\u001b[39m \u001b[39melse\u001b[39;00m \u001b[39m-\u001b[39maxis\n\u001b[0;32m   1263\u001b[0m \u001b[39m# TODO(mattjj): better error message here\u001b[39;00m\n\u001b[1;32m-> 1264\u001b[0m \u001b[39mraise\u001b[39;00m \u001b[39mValueError\u001b[39;00m(\n\u001b[0;32m   1265\u001b[0m     \u001b[39mf\u001b[39m\u001b[39m\"\u001b[39m\u001b[39m{\u001b[39;00mname\u001b[39m}\u001b[39;00m\u001b[39m was requested to map its argument along axis \u001b[39m\u001b[39m{\u001b[39;00maxis\u001b[39m}\u001b[39;00m\u001b[39m, \u001b[39m\u001b[39m\"\u001b[39m\n\u001b[0;32m   1266\u001b[0m     \u001b[39mf\u001b[39m\u001b[39m\"\u001b[39m\u001b[39mwhich implies that its rank should be at least \u001b[39m\u001b[39m{\u001b[39;00mmin_rank\u001b[39m}\u001b[39;00m\u001b[39m, \u001b[39m\u001b[39m\"\u001b[39m\n\u001b[0;32m   1267\u001b[0m     \u001b[39mf\u001b[39m\u001b[39m\"\u001b[39m\u001b[39mbut is only \u001b[39m\u001b[39m{\u001b[39;00m\u001b[39mlen\u001b[39m(shape)\u001b[39m}\u001b[39;00m\u001b[39m (its shape is \u001b[39m\u001b[39m{\u001b[39;00mshape\u001b[39m}\u001b[39;00m\u001b[39m)\u001b[39m\u001b[39m\"\u001b[39m) \u001b[39mfrom\u001b[39;00m \u001b[39me\u001b[39;00m\n",
      "\u001b[1;31mValueError\u001b[0m: vmap was requested to map its argument along axis 1, which implies that its rank should be at least 2, but is only 1 (its shape is (10,))"
     ]
    }
   ],
   "source": [
    "v = jnp.arange(10)\n",
    "vmap(foo)(v)"
   ]
  },
  {
   "cell_type": "code",
   "execution_count": 4,
   "metadata": {},
   "outputs": [
    {
     "name": "stdout",
     "output_type": "stream",
     "text": [
      "[[12. 12. 12. 12. 12.]\n",
      " [12. 12. 12. 12. 12.]]\n"
     ]
    }
   ],
   "source": [
    "A, B, C, D = 2, 3, 4, 5\n",
    "x = jnp.ones((A, B))\n",
    "y = jnp.ones((B, C))\n",
    "z = jnp.ones((C, D))\n",
    "def foo(tree_arg):\n",
    "    x, (y, z) = tree_arg\n",
    "    return jnp.dot(x, jnp.dot(y, z))\n",
    "tree = (x, (y, z))\n",
    "print(foo(tree))\n"
   ]
  },
  {
   "cell_type": "code",
   "execution_count": 9,
   "metadata": {},
   "outputs": [
    {
     "name": "stdout",
     "output_type": "stream",
     "text": [
      "(6, 2, 5)\n"
     ]
    }
   ],
   "source": [
    "from jax import vmap\n",
    "K = 6  # batch size\n",
    "x = jnp.ones((K, A, B))  # batch axis in different locations\n",
    "y = jnp.ones((B, K, C))\n",
    "z = jnp.ones((C, D, K))\n",
    "tree = (x, (y, z))\n",
    "vfoo = vmap(foo, in_axes=((0, (1, 2)),))\n",
    "print(vfoo(tree).shape)\n",
    "# (6, 2, 5)"
   ]
  },
  {
   "cell_type": "code",
   "execution_count": 21,
   "metadata": {},
   "outputs": [
    {
     "ename": "TypeError",
     "evalue": "Shapes must be 1D sequences of concrete values of integer type, got (None, 5).",
     "output_type": "error",
     "traceback": [
      "\u001b[1;31m---------------------------------------------------------------------------\u001b[0m",
      "\u001b[1;31mTypeError\u001b[0m                                 Traceback (most recent call last)",
      "File \u001b[1;32m~\\AppData\\Local\\Packages\\PythonSoftwareFoundation.Python.3.11_qbz5n2kfra8p0\\LocalCache\\local-packages\\Python311\\site-packages\\jax\\_src\\core.py:1928\u001b[0m, in \u001b[0;36m_dim_handler_and_canonical\u001b[1;34m(*dlist)\u001b[0m\n\u001b[0;32m   1927\u001b[0m \u001b[39mtry\u001b[39;00m:\n\u001b[1;32m-> 1928\u001b[0m   canonical\u001b[39m.\u001b[39mappend(operator\u001b[39m.\u001b[39mindex(d))\n\u001b[0;32m   1929\u001b[0m \u001b[39mexcept\u001b[39;00m \u001b[39mTypeError\u001b[39;00m:\n",
      "\u001b[1;31mTypeError\u001b[0m: 'NoneType' object cannot be interpreted as an integer",
      "\nDuring handling of the above exception, another exception occurred:\n",
      "\u001b[1;31mTypeError\u001b[0m                                 Traceback (most recent call last)",
      "Cell \u001b[1;32mIn[21], line 19\u001b[0m\n\u001b[0;32m     16\u001b[0m sliced_inputs \u001b[39m=\u001b[39m input_vector[slice_indices]\n\u001b[0;32m     18\u001b[0m \u001b[39m# Process the sliced inputs (multiply by 2 in this example)\u001b[39;00m\n\u001b[1;32m---> 19\u001b[0m processed_sliced_inputs \u001b[39m=\u001b[39m jax\u001b[39m.\u001b[39;49mvmap(process_slice,(\u001b[39mNone\u001b[39;49;00m,\u001b[39m0\u001b[39;49m,\u001b[39m0\u001b[39;49m))(input_vector,slice_indices,input_vector2)\n\u001b[0;32m     20\u001b[0m \u001b[39mprint\u001b[39m(processed_sliced_inputs)\n\u001b[0;32m     22\u001b[0m \u001b[39m# # Combine the processed slices back into the original shape\u001b[39;00m\n\u001b[0;32m     23\u001b[0m \u001b[39m# output_vector = jnp.zeros_like(input_vector)\u001b[39;00m\n\u001b[0;32m     24\u001b[0m \u001b[39m# output_vector = jax.ops.index_update(output_vector, slice_indices, processed_sliced_inputs)\u001b[39;00m\n\u001b[0;32m     25\u001b[0m \n\u001b[0;32m     26\u001b[0m \u001b[39m# print(output_vector)  # Output: [2 2 6 4 10]\u001b[39;00m\n",
      "    \u001b[1;31m[... skipping hidden 6 frame]\u001b[0m\n",
      "File \u001b[1;32m~\\AppData\\Local\\Packages\\PythonSoftwareFoundation.Python.3.11_qbz5n2kfra8p0\\LocalCache\\local-packages\\Python311\\site-packages\\jax\\_src\\core.py:1930\u001b[0m, in \u001b[0;36m_dim_handler_and_canonical\u001b[1;34m(*dlist)\u001b[0m\n\u001b[0;32m   1928\u001b[0m       canonical\u001b[39m.\u001b[39mappend(operator\u001b[39m.\u001b[39mindex(d))\n\u001b[0;32m   1929\u001b[0m     \u001b[39mexcept\u001b[39;00m \u001b[39mTypeError\u001b[39;00m:\n\u001b[1;32m-> 1930\u001b[0m       \u001b[39mraise\u001b[39;00m _invalid_shape_error(dlist)\n\u001b[0;32m   1932\u001b[0m \u001b[39mif\u001b[39;00m \u001b[39mlen\u001b[39m(special_handlers) \u001b[39m>\u001b[39m \u001b[39m1\u001b[39m:\n\u001b[0;32m   1933\u001b[0m   msg \u001b[39m=\u001b[39m (\u001b[39mf\u001b[39m\u001b[39m\"\u001b[39m\u001b[39mDimension size operation involves multiple special dimension types \u001b[39m\u001b[39m{\u001b[39;00mdlist\u001b[39m}\u001b[39;00m\u001b[39m\"\u001b[39m)\n",
      "\u001b[1;31mTypeError\u001b[0m: Shapes must be 1D sequences of concrete values of integer type, got (None, 5)."
     ]
    }
   ],
   "source": [
    "import jax\n",
    "import jax.numpy as jnp\n",
    "\n",
    "def process_slice(v,idx,v2):\n",
    "    # Your processing logic here, e.g., multiply by 2\n",
    "    return v[idx] * 2\n",
    "\n",
    "# Original input vector\n",
    "input_vector = jnp.array([1, 2, 3, 4, 10])\n",
    "input_vector2 = jnp.array([-6,-7,-8])\n",
    "\n",
    "# Indices for slicing the input vector\n",
    "slice_indices = jnp.array([[0,1],[1,2],[2,3],[3,4],[4,5]])\n",
    "\n",
    "# Slice the input vector based on the indices\n",
    "sliced_inputs = input_vector[slice_indices]\n",
    "\n",
    "# Process the sliced inputs (multiply by 2 in this example)\n",
    "processed_sliced_inputs = jax.vmap(process_slice,(None,0,0))(input_vector,slice_indices,input_vector2)\n",
    "print(processed_sliced_inputs)\n",
    "\n",
    "# # Combine the processed slices back into the original shape\n",
    "# output_vector = jnp.zeros_like(input_vector)\n",
    "# output_vector = jax.ops.index_update(output_vector, slice_indices, processed_sliced_inputs)\n",
    "\n",
    "# print(output_vector)  # Output: [2 2 6 4 10]\n"
   ]
  },
  {
   "cell_type": "code",
   "execution_count": null,
   "metadata": {},
   "outputs": [],
   "source": []
  },
  {
   "cell_type": "code",
   "execution_count": null,
   "metadata": {},
   "outputs": [],
   "source": []
  }
 ],
 "metadata": {
  "kernelspec": {
   "display_name": "Python 3",
   "language": "python",
   "name": "python3"
  },
  "language_info": {
   "codemirror_mode": {
    "name": "ipython",
    "version": 3
   },
   "file_extension": ".py",
   "mimetype": "text/x-python",
   "name": "python",
   "nbconvert_exporter": "python",
   "pygments_lexer": "ipython3",
   "version": "3.11.4"
  },
  "orig_nbformat": 4
 },
 "nbformat": 4,
 "nbformat_minor": 2
}
