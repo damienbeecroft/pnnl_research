{
 "cells": [
  {
   "cell_type": "markdown",
   "metadata": {},
   "source": [
    "# Domain Sorting \n",
    "## Author: Damien "
   ]
  },
  {
   "cell_type": "markdown",
   "metadata": {},
   "source": [
    "#### I realized during the development of the other code that the multifidelity_network function should work with individual point inputs, not a list of point inputs. I am rewriting the code for the evaluation of the multifidelity network to account for this."
   ]
  },
  {
   "cell_type": "code",
   "execution_count": null,
   "metadata": {},
   "outputs": [],
   "source": [
    "import numpy as np\n",
    "from anytree import NodeMixin, RenderTree\n",
    "import math\n",
    "import matplotlib.pyplot as plt"
   ]
  },
  {
   "cell_type": "code",
   "execution_count": null,
   "metadata": {},
   "outputs": [],
   "source": [
    "class MFDomain(NodeMixin):\n",
    "    def __init__(self,vertices,parent=None,children=None):\n",
    "        super(MFDomain,self).__init__()\n",
    "        self.vertices = np.array(vertices) # two opposite vertices that define the n-dimensional box\n",
    "        self.parent = parent\n",
    "\n",
    "        if children: # set children\n",
    "            self.children = children\n",
    "\n",
    "        self.root.tree_level_organizer(self)\n",
    "\n",
    "    def weight(self,x):\n",
    "        \"\"\"\n",
    "        This is the coefficient weight function of the neural domain\n",
    "        # NOTE: This function only currently works for 1D functions. I need to implement a high dimensional version\n",
    "        \"\"\"\n",
    "        vertices = self.vertices\n",
    "        mu = (vertices[0] + vertices[1])/2\n",
    "        sigma = (vertices[1] - vertices[0])/2\n",
    "        w = 1+ np.cos(math.pi*(x-mu)/sigma)\n",
    "        w = w**2\n",
    "        return w\n",
    "\n",
    "    def apply_mf(self,pts,u_lf):\n",
    "        val = np.ones(len(pts))\n",
    "        return val\n"
   ]
  },
  {
   "cell_type": "code",
   "execution_count": null,
   "metadata": {},
   "outputs": [],
   "source": [
    "class RootUtilities:\n",
    "    def __init__(self):\n",
    "        self.levels = [] # list of what classes are on which levels of the domain tree\n",
    "\n",
    "    def tree_level_organizer(self,new_node):\n",
    "        \"\"\"\n",
    "        This function recognizes which level \"new_node\" is on and places the class in the appropriate\n",
    "        level in \"self.levels\".\n",
    "        \"\"\"\n",
    "        depth = new_node.depth # find the depth of the new node\n",
    "        if depth >= len(self.levels): # if \"new_node\" is the first on a new level, add that level to \"self.levels\"\n",
    "            self.levels.append([new_node])\n",
    "        else: # if \"new_node\" is a member of an existing level, add it to that level of \"self.levels\"\n",
    "            self.levels[depth].append(new_node)\n",
    "\n",
    "class SFDomain(RootUtilities,NodeMixin):\n",
    "    def __init__(self,vertices,children=None):\n",
    "        super(SFDomain,self).__init__()\n",
    "        self.vertices = np.array(vertices) # two opposite vertices that define the n-dimensional box\n",
    "\n",
    "        if children: # set children\n",
    "            self.children = children\n",
    "\n",
    "        self.pts = np.array([]) # the points on the interior of the root domain\n",
    "        self.global_indices = np.arange(1) # NOTE: This is a hard-coded batch size. This needs to be changed.\n",
    "\n",
    "        self.tree_level_organizer(self)\n",
    "    \n",
    "    def apply_sf(self,pts): # dummy function to test \"evaluate_neural_domain_tree\"\n",
    "        val = np.ones(len(pts))\n",
    "        return val\n",
    "\n",
    "    def find_interior_points(self,verts,parent_pts): # TESTED\n",
    "        \"\"\"\n",
    "        Creates a mask that communicates the locations of which points in \"pts\" are in the hyperrectangle\n",
    "        defined by verts.\n",
    "        \"\"\"\n",
    "        indices = []\n",
    "        pts = []\n",
    "        number_of_points = len(parent_pts)\n",
    "        for i in range(number_of_points):\n",
    "            condition = ((verts[0] < parent_pts[i]) & (parent_pts[i] < verts[1])).all()\n",
    "            if condition:\n",
    "                indices.append(i)\n",
    "                pts.append(parent_pts[i])\n",
    "        return np.array(indices), np.array(pts)\n",
    "    \n",
    "    def multifidelity_network(self,params,pts):\n",
    "\n",
    "\n",
    "    # def evaluate_neural_domain_tree(self,pts): # TESTED\n",
    "    #     \"\"\"\n",
    "    #     Evaluate the neural domain tree layer by layer. \n",
    "    #     NOTE: The current code only works if the support of the union of the domains at each level is the original domain.\n",
    "    #     \"\"\"\n",
    "    #     self.pts = pts # save points to class\n",
    "    #     u_pred = self.apply_sf(pts)\n",
    "    #     u_preds = np.zeros((len(self.levels),len(pts)))\n",
    "    #     u_preds[0,:] = u_pred # the first prediction of the solution is the single fidelity net\n",
    "    #     self.global_indices = np.arange(len(pts)) # NOTE: This is inefficient. Find a better way to set this\n",
    "    #     iter = 1\n",
    "    #     for level in self.levels[1:]: # iterates through the levels of the domain tree (skipping the first level which contains the root)\n",
    "    #         u_pred = np.zeros(len(pts))\n",
    "    #         for mfdomain in level: # iterates through the MFDomains in each level of the tree. NOTE: parallelize this loop\n",
    "    #             parent = mfdomain.parent        \n",
    "    #             local_indices, mfdomain.pts = self.find_interior_points(mfdomain.vertices,parent.pts)\n",
    "    #             mfdomain.global_indices = parent.global_indices[local_indices] # get the indices of the points in the support of mfdomain\n",
    "    #             output = mfdomain.apply_mf(mfdomain.pts,u_preds[-1][mfdomain.global_indices]) # analyze the local network\n",
    "    #             u_pred[mfdomain.global_indices] += output # add the output to the prediction of the solution\n",
    "    #         u_preds[iter,:] = u_pred\n",
    "    #         iter += 1\n",
    "    #     return u_preds"
   ]
  }
 ],
 "metadata": {
  "kernelspec": {
   "display_name": "Python 3",
   "language": "python",
   "name": "python3"
  },
  "language_info": {
   "codemirror_mode": {
    "name": "ipython",
    "version": 3
   },
   "file_extension": ".py",
   "mimetype": "text/x-python",
   "name": "python",
   "nbconvert_exporter": "python",
   "pygments_lexer": "ipython3",
   "version": "3.11.4"
  },
  "orig_nbformat": 4
 },
 "nbformat": 4,
 "nbformat_minor": 2
}
