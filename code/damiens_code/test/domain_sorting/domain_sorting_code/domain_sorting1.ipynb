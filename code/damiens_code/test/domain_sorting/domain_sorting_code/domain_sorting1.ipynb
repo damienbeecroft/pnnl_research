{
 "cells": [
  {
   "attachments": {},
   "cell_type": "markdown",
   "metadata": {},
   "source": [
    "# Domain Sorting \n",
    "## Author: Damien "
   ]
  },
  {
   "attachments": {},
   "cell_type": "markdown",
   "metadata": {},
   "source": [
    "For this implementation, of domain sorting, we assume that the domain and all sub-domains are hyperrectangles."
   ]
  },
  {
   "cell_type": "code",
   "execution_count": 22,
   "metadata": {},
   "outputs": [],
   "source": [
    "import pickle\n",
    "import numpy as np\n",
    "from anytree import NodeMixin, RenderTree"
   ]
  },
  {
   "cell_type": "code",
   "execution_count": 44,
   "metadata": {},
   "outputs": [],
   "source": [
    "class DomainTree:\n",
    "    \"\"\"\n",
    "    Author:         Damien Beecroft\n",
    "    Domain_Tree:    A super of the Domain class that stores important functions for working with\n",
    "                    the domain decomposition tree.\n",
    "    \"\"\"\n",
    "    def __init__(self):\n",
    "        self.dnn_size = [3,80,2]\n",
    "        self.nonlin_size = [3,80,2]\n",
    "        self.lin_size = [3,4,2]\n",
    "    \n",
    "    def find_interior_pts(self): # find which of the parent's points are in the current domain\n",
    "        parent_pts = self.parent.pts # get the parent's points\n",
    "        verts = self.vertices\n",
    "        mask = [((verts[0] <= pt) & (pt <= verts[1])).all() for pt in parent_pts] # find which of the parent's points are in the current domain\n",
    "        domain_pts = parent_pts[mask]\n",
    "        return domain_pts\n",
    "\n",
    "class Domain(DomainTree,NodeMixin):\n",
    "    \"\"\"\n",
    "    Author:     Damien Beecroft\n",
    "    Domain:     A class that defines properties of the relevant domains used for tracking where each\n",
    "                neural network has support. The local properties of the nodes are defined here. The \"global\"\n",
    "                variables are stored in the support class: DomainTree.\n",
    "    =================================================================================================\n",
    "    vertices:   Two opposite points on the hyperrectangle used to define the domain. \n",
    "    parent:     The node corresponding to the domain that the current node's domain is the immediate subset of\n",
    "    children:   The nodes whose domains are the immediate subsets of the current domain.\n",
    "    pts:        List of collocation points for the neural network to be evaluated at. This value is only passed \n",
    "                in for the root node. All other nodes determine the points determine their interior points through\n",
    "                the find_interior points function in the Domain_Tree class.\n",
    "    net_sizes:  [base net shape, nonlinear net shape, linear net shape]. The base net is the \n",
    "    \"\"\"\n",
    "    def __init__(self,vertices,parent=None,children=None,pts=None):\n",
    "        super(Domain,self).__init__()\n",
    "        self.vertices = vertices # two opposite vertices that define the n-dimensional box\n",
    "        self.parent = parent # parent domain of the current domain\n",
    "        self.dnn = None\n",
    "        self.nonlin_net = None\n",
    "        self.lin_net = None\n",
    "        if parent: # set level\n",
    "            self.lvl = parent.lvl + 1\n",
    "            self.pts = self.find_interior_pts() # otherwise, find which points are in the domain of the current domain\n",
    "            self.lin_net = np.zeros(self.lin_size)\n",
    "            self.nonlin_net = np.zeros(self.lin_size)            \n",
    "        else:\n",
    "            self.lvl = 0\n",
    "            self.pts = pts # if this is the root node, just assign points\n",
    "            self.dnn = np.zeros(self.dnn_size)\n",
    "\n",
    "        if children: # set children\n",
    "            self.children = children"
   ]
  },
  {
   "attachments": {},
   "cell_type": "markdown",
   "metadata": {},
   "source": [
    "### Can you make a tree where the nodes are two distinct types of classes?"
   ]
  },
  {
   "cell_type": "code",
   "execution_count": 55,
   "metadata": {},
   "outputs": [],
   "source": [
    "class Fomain(DomainTree,NodeMixin):\n",
    "    def __init__(self,dummy_var,parent=None,children=None):\n",
    "        super(Fomain,self).__init__()\n",
    "        self.dummy = dummy_var\n",
    "        self.parent = parent # parent domain of the current domain\n",
    "\n",
    "        if parent: # set level\n",
    "            self.lvl = parent.lvl + 1\n",
    "        else:\n",
    "            self.lvl = 0\n",
    "\n",
    "        if children: # set children\n",
    "            self.children = children"
   ]
  },
  {
   "cell_type": "code",
   "execution_count": 56,
   "metadata": {},
   "outputs": [],
   "source": [
    "dom0 = np.array([[0.],[1.]])\n",
    "dom10 = np.array([[0.],[0.6]])\n",
    "dom11 = np.array([[0.4],[1.]])\n",
    "dom20 = np.array([[0.],[0.35]])\n",
    "dom21 = np.array([[0.25],[0.6]])\n",
    "\n",
    "D0 = Domain(dom0,pts=np.array([[0.2],[0.6],[0.9],[0.4],[0.8]]))\n",
    "D10 = Domain(dom10,parent=D0)\n",
    "D11 = Domain(dom10,parent=D0)\n",
    "F12 = Fomain(3,parent=D0) # Adding new dummy class to tree\n",
    "D20 = Domain(dom20,parent=D10)\n",
    "D21 = Domain(dom20,parent=D10)\n"
   ]
  },
  {
   "cell_type": "code",
   "execution_count": 58,
   "metadata": {},
   "outputs": [
    {
     "data": {
      "text/plain": [
       "<__main__.Domain at 0x1d81119c610>"
      ]
     },
     "execution_count": 58,
     "metadata": {},
     "output_type": "execute_result"
    }
   ],
   "source": [
    "F12.parent\n",
    "# Eureka!"
   ]
  }
 ],
 "metadata": {
  "kernelspec": {
   "display_name": "Python 3",
   "language": "python",
   "name": "python3"
  },
  "language_info": {
   "codemirror_mode": {
    "name": "ipython",
    "version": 3
   },
   "file_extension": ".py",
   "mimetype": "text/x-python",
   "name": "python",
   "nbconvert_exporter": "python",
   "pygments_lexer": "ipython3",
   "version": "3.11.4"
  },
  "orig_nbformat": 4
 },
 "nbformat": 4,
 "nbformat_minor": 2
}
